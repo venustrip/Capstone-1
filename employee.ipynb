{
 "cells": [
  {
   "cell_type": "markdown",
   "metadata": {},
   "source": [
    "#                   Capstone Project 1: Employer Ratings Analysis"
   ]
  },
  {
   "cell_type": "markdown",
   "metadata": {},
   "source": [
    "# Data Wrangling Steps:\n",
    "The data has been acquired as a csv file from https://www.kaggle.com/petersunga/google-amazon-facebook-employee-reviews. It #was created by web scraping over 67K employee reviews for employers such as Amazon, Apple, Google, Facebook, Microsoft and #Netflix. The reviews were collected over a time span of 10 years (2009-2018)."
   ]
  },
  {
   "cell_type": "markdown",
   "metadata": {},
   "source": [
    "# Import packages and read the csv file into a pandas DataFrame. "
   ]
  },
  {
   "cell_type": "code",
   "execution_count": 1,
   "metadata": {},
   "outputs": [],
   "source": [
    "import numpy as np\n",
    "import pandas as pd\n",
    "emp_df = pd.read_csv('employee_reviews.csv')"
   ]
  },
  {
   "cell_type": "code",
   "execution_count": 2,
   "metadata": {},
   "outputs": [
    {
     "name": "stdout",
     "output_type": "stream",
     "text": [
      "<class 'pandas.core.frame.DataFrame'>\n",
      "RangeIndex: 67529 entries, 0 to 67528\n",
      "Data columns (total 17 columns):\n",
      "Unnamed: 0                    67529 non-null int64\n",
      "company                       67529 non-null object\n",
      "location                      67529 non-null object\n",
      "dates                         67529 non-null object\n",
      "job-title                     67529 non-null object\n",
      "summary                       67409 non-null object\n",
      "pros                          67529 non-null object\n",
      "cons                          67529 non-null object\n",
      "advice-to-mgmt                67232 non-null object\n",
      "overall-ratings               67529 non-null float64\n",
      "work-balance-stars            67529 non-null object\n",
      "culture-values-stars          67529 non-null object\n",
      "carrer-opportunities-stars    67529 non-null object\n",
      "comp-benefit-stars            67529 non-null object\n",
      "senior-mangemnet-stars        67529 non-null object\n",
      "helpful-count                 67529 non-null int64\n",
      "link                          67529 non-null object\n",
      "dtypes: float64(1), int64(2), object(14)\n",
      "memory usage: 8.8+ MB\n"
     ]
    }
   ],
   "source": [
    "emp_df.info()"
   ]
  },
  {
   "cell_type": "code",
   "execution_count": 3,
   "metadata": {},
   "outputs": [
    {
     "data": {
      "text/html": [
       "<div>\n",
       "<style scoped>\n",
       "    .dataframe tbody tr th:only-of-type {\n",
       "        vertical-align: middle;\n",
       "    }\n",
       "\n",
       "    .dataframe tbody tr th {\n",
       "        vertical-align: top;\n",
       "    }\n",
       "\n",
       "    .dataframe thead th {\n",
       "        text-align: right;\n",
       "    }\n",
       "</style>\n",
       "<table border=\"1\" class=\"dataframe\">\n",
       "  <thead>\n",
       "    <tr style=\"text-align: right;\">\n",
       "      <th></th>\n",
       "      <th>Unnamed: 0</th>\n",
       "      <th>company</th>\n",
       "      <th>location</th>\n",
       "      <th>dates</th>\n",
       "      <th>job-title</th>\n",
       "      <th>summary</th>\n",
       "      <th>pros</th>\n",
       "      <th>cons</th>\n",
       "      <th>advice-to-mgmt</th>\n",
       "      <th>overall-ratings</th>\n",
       "      <th>work-balance-stars</th>\n",
       "      <th>culture-values-stars</th>\n",
       "      <th>carrer-opportunities-stars</th>\n",
       "      <th>comp-benefit-stars</th>\n",
       "      <th>senior-mangemnet-stars</th>\n",
       "      <th>helpful-count</th>\n",
       "      <th>link</th>\n",
       "    </tr>\n",
       "  </thead>\n",
       "  <tbody>\n",
       "    <tr>\n",
       "      <th>0</th>\n",
       "      <td>1</td>\n",
       "      <td>google</td>\n",
       "      <td>none</td>\n",
       "      <td>Dec 11, 2018</td>\n",
       "      <td>Current Employee - Anonymous Employee</td>\n",
       "      <td>Best Company to work for</td>\n",
       "      <td>People are smart and friendly</td>\n",
       "      <td>Bureaucracy is slowing things down</td>\n",
       "      <td>none</td>\n",
       "      <td>5.0</td>\n",
       "      <td>4.0</td>\n",
       "      <td>5.0</td>\n",
       "      <td>5.0</td>\n",
       "      <td>4.0</td>\n",
       "      <td>5.0</td>\n",
       "      <td>0</td>\n",
       "      <td>https://www.glassdoor.com/Reviews/Google-Revie...</td>\n",
       "    </tr>\n",
       "    <tr>\n",
       "      <th>1</th>\n",
       "      <td>2</td>\n",
       "      <td>google</td>\n",
       "      <td>Mountain View, CA</td>\n",
       "      <td>Jun 21, 2013</td>\n",
       "      <td>Former Employee - Program Manager</td>\n",
       "      <td>Moving at the speed of light, burn out is inev...</td>\n",
       "      <td>1) Food, food, food. 15+ cafes on main campus ...</td>\n",
       "      <td>1) Work/life balance. What balance? All those ...</td>\n",
       "      <td>1) Don't dismiss emotional intelligence and ad...</td>\n",
       "      <td>4.0</td>\n",
       "      <td>2.0</td>\n",
       "      <td>3.0</td>\n",
       "      <td>3.0</td>\n",
       "      <td>5.0</td>\n",
       "      <td>3.0</td>\n",
       "      <td>2094</td>\n",
       "      <td>https://www.glassdoor.com/Reviews/Google-Revie...</td>\n",
       "    </tr>\n",
       "    <tr>\n",
       "      <th>2</th>\n",
       "      <td>3</td>\n",
       "      <td>google</td>\n",
       "      <td>New York, NY</td>\n",
       "      <td>May 10, 2014</td>\n",
       "      <td>Current Employee - Software Engineer III</td>\n",
       "      <td>Great balance between big-company security and...</td>\n",
       "      <td>* If you're a software engineer, you're among ...</td>\n",
       "      <td>* It *is* becoming larger, and with it comes g...</td>\n",
       "      <td>Keep the focus on the user. Everything else wi...</td>\n",
       "      <td>5.0</td>\n",
       "      <td>5.0</td>\n",
       "      <td>4.0</td>\n",
       "      <td>5.0</td>\n",
       "      <td>5.0</td>\n",
       "      <td>4.0</td>\n",
       "      <td>949</td>\n",
       "      <td>https://www.glassdoor.com/Reviews/Google-Revie...</td>\n",
       "    </tr>\n",
       "    <tr>\n",
       "      <th>3</th>\n",
       "      <td>4</td>\n",
       "      <td>google</td>\n",
       "      <td>Mountain View, CA</td>\n",
       "      <td>Feb 8, 2015</td>\n",
       "      <td>Current Employee - Anonymous Employee</td>\n",
       "      <td>The best place I've worked and also the most d...</td>\n",
       "      <td>You can't find a more well-regarded company th...</td>\n",
       "      <td>I live in SF so the commute can take between 1...</td>\n",
       "      <td>Keep on NOT micromanaging - that is a huge ben...</td>\n",
       "      <td>5.0</td>\n",
       "      <td>2.0</td>\n",
       "      <td>5.0</td>\n",
       "      <td>5.0</td>\n",
       "      <td>4.0</td>\n",
       "      <td>5.0</td>\n",
       "      <td>498</td>\n",
       "      <td>https://www.glassdoor.com/Reviews/Google-Revie...</td>\n",
       "    </tr>\n",
       "    <tr>\n",
       "      <th>4</th>\n",
       "      <td>5</td>\n",
       "      <td>google</td>\n",
       "      <td>Los Angeles, CA</td>\n",
       "      <td>Jul 19, 2018</td>\n",
       "      <td>Former Employee - Software Engineer</td>\n",
       "      <td>Unique, one of a kind dream job</td>\n",
       "      <td>Google is a world of its own. At every other c...</td>\n",
       "      <td>If you don't work in MTV (HQ), you will be giv...</td>\n",
       "      <td>Promote managers into management for their man...</td>\n",
       "      <td>5.0</td>\n",
       "      <td>5.0</td>\n",
       "      <td>5.0</td>\n",
       "      <td>5.0</td>\n",
       "      <td>5.0</td>\n",
       "      <td>5.0</td>\n",
       "      <td>49</td>\n",
       "      <td>https://www.glassdoor.com/Reviews/Google-Revie...</td>\n",
       "    </tr>\n",
       "  </tbody>\n",
       "</table>\n",
       "</div>"
      ],
      "text/plain": [
       "   Unnamed: 0 company           location          dates  \\\n",
       "0           1  google               none   Dec 11, 2018   \n",
       "1           2  google  Mountain View, CA   Jun 21, 2013   \n",
       "2           3  google       New York, NY   May 10, 2014   \n",
       "3           4  google  Mountain View, CA    Feb 8, 2015   \n",
       "4           5  google    Los Angeles, CA   Jul 19, 2018   \n",
       "\n",
       "                                  job-title  \\\n",
       "0     Current Employee - Anonymous Employee   \n",
       "1         Former Employee - Program Manager   \n",
       "2  Current Employee - Software Engineer III   \n",
       "3     Current Employee - Anonymous Employee   \n",
       "4       Former Employee - Software Engineer   \n",
       "\n",
       "                                             summary  \\\n",
       "0                           Best Company to work for   \n",
       "1  Moving at the speed of light, burn out is inev...   \n",
       "2  Great balance between big-company security and...   \n",
       "3  The best place I've worked and also the most d...   \n",
       "4                    Unique, one of a kind dream job   \n",
       "\n",
       "                                                pros  \\\n",
       "0                      People are smart and friendly   \n",
       "1  1) Food, food, food. 15+ cafes on main campus ...   \n",
       "2  * If you're a software engineer, you're among ...   \n",
       "3  You can't find a more well-regarded company th...   \n",
       "4  Google is a world of its own. At every other c...   \n",
       "\n",
       "                                                cons  \\\n",
       "0                 Bureaucracy is slowing things down   \n",
       "1  1) Work/life balance. What balance? All those ...   \n",
       "2  * It *is* becoming larger, and with it comes g...   \n",
       "3  I live in SF so the commute can take between 1...   \n",
       "4  If you don't work in MTV (HQ), you will be giv...   \n",
       "\n",
       "                                      advice-to-mgmt  overall-ratings  \\\n",
       "0                                               none              5.0   \n",
       "1  1) Don't dismiss emotional intelligence and ad...              4.0   \n",
       "2  Keep the focus on the user. Everything else wi...              5.0   \n",
       "3  Keep on NOT micromanaging - that is a huge ben...              5.0   \n",
       "4  Promote managers into management for their man...              5.0   \n",
       "\n",
       "  work-balance-stars culture-values-stars carrer-opportunities-stars  \\\n",
       "0                4.0                  5.0                        5.0   \n",
       "1                2.0                  3.0                        3.0   \n",
       "2                5.0                  4.0                        5.0   \n",
       "3                2.0                  5.0                        5.0   \n",
       "4                5.0                  5.0                        5.0   \n",
       "\n",
       "  comp-benefit-stars senior-mangemnet-stars  helpful-count  \\\n",
       "0                4.0                    5.0              0   \n",
       "1                5.0                    3.0           2094   \n",
       "2                5.0                    4.0            949   \n",
       "3                4.0                    5.0            498   \n",
       "4                5.0                    5.0             49   \n",
       "\n",
       "                                                link  \n",
       "0  https://www.glassdoor.com/Reviews/Google-Revie...  \n",
       "1  https://www.glassdoor.com/Reviews/Google-Revie...  \n",
       "2  https://www.glassdoor.com/Reviews/Google-Revie...  \n",
       "3  https://www.glassdoor.com/Reviews/Google-Revie...  \n",
       "4  https://www.glassdoor.com/Reviews/Google-Revie...  "
      ]
     },
     "execution_count": 3,
     "metadata": {},
     "output_type": "execute_result"
    }
   ],
   "source": [
    "emp_df.head()"
   ]
  },
  {
   "cell_type": "markdown",
   "metadata": {},
   "source": [
    "The dataset consists of 67529 observations with 17 columns. "
   ]
  },
  {
   "cell_type": "markdown",
   "metadata": {},
   "source": [
    "# Some of the columns are poorly labeled so they should be renamed."
   ]
  },
  {
   "cell_type": "code",
   "execution_count": 4,
   "metadata": {},
   "outputs": [],
   "source": [
    "emp_df = emp_df.rename(columns = {\"job-title\": \"job_title\", \"advice-to-mgmt\": \"advice_to_mgmt\", \n",
    "                                        \"overall-ratings\": \"overall_ratings\", \"work-balance-stars\": \"work_balance_stars\", \n",
    "                                        \"culture-values-stars\": \"culture_values_stars\", \"helpful-count\": \"helpful_count\",\n",
    "                                        \"carrer-opportunities-stars\": \"career_opportunities_stars\",\n",
    "                                        \"comp-benefit-stars\": \"comp_benefit_stars\", \"senior-mangemnet-stars\": \"senior_management_stars\"})"
   ]
  },
  {
   "cell_type": "markdown",
   "metadata": {},
   "source": [
    "# Check for null values in all columns"
   ]
  },
  {
   "cell_type": "code",
   "execution_count": 5,
   "metadata": {},
   "outputs": [
    {
     "data": {
      "text/plain": [
       "Unnamed: 0                      0\n",
       "company                         0\n",
       "location                        0\n",
       "dates                           0\n",
       "job_title                       0\n",
       "summary                       120\n",
       "pros                            0\n",
       "cons                            0\n",
       "advice_to_mgmt                297\n",
       "overall_ratings                 0\n",
       "work_balance_stars              0\n",
       "culture_values_stars            0\n",
       "career_opportunities_stars      0\n",
       "comp_benefit_stars              0\n",
       "senior_management_stars         0\n",
       "helpful_count                   0\n",
       "link                            0\n",
       "dtype: int64"
      ]
     },
     "execution_count": 5,
     "metadata": {},
     "output_type": "execute_result"
    }
   ],
   "source": [
    "emp_df.isnull().sum()"
   ]
  },
  {
   "cell_type": "markdown",
   "metadata": {},
   "source": [
    "# Check for some unique values"
   ]
  },
  {
   "cell_type": "code",
   "execution_count": 6,
   "metadata": {},
   "outputs": [
    {
     "data": {
      "text/plain": [
       "array(['none', 'Mountain View, CA', 'New York, NY', ...,\n",
       "       'Srinagar, Jammu and Kashmir (India)', 'Blackburn, England (UK)',\n",
       "       'Pudong, Shanghai (China)'], dtype=object)"
      ]
     },
     "execution_count": 6,
     "metadata": {},
     "output_type": "execute_result"
    }
   ],
   "source": [
    "emp_df['location'].unique()"
   ]
  },
  {
   "cell_type": "code",
   "execution_count": 7,
   "metadata": {},
   "outputs": [
    {
     "data": {
      "text/plain": [
       "array(['4.0', '2.0', '5.0', 'none', '3.0', '1.0', '4.5', '2.5', '3.5',\n",
       "       '1.5'], dtype=object)"
      ]
     },
     "execution_count": 7,
     "metadata": {},
     "output_type": "execute_result"
    }
   ],
   "source": [
    "emp_df['work_balance_stars'].unique()"
   ]
  },
  {
   "cell_type": "markdown",
   "metadata": {},
   "source": [
    "Some columns have “none” as value. So they do not qualify as missing value, even though they are null. By replacing all “none” values with np.NaN, they can be identified as a null value."
   ]
  },
  {
   "cell_type": "markdown",
   "metadata": {},
   "source": [
    "# Replace 'none' with np.Nan"
   ]
  },
  {
   "cell_type": "code",
   "execution_count": 8,
   "metadata": {},
   "outputs": [
    {
     "data": {
      "text/plain": [
       "Unnamed: 0                        0\n",
       "company                           0\n",
       "location                      25085\n",
       "dates                             0\n",
       "job_title                         0\n",
       "summary                         129\n",
       "pros                              0\n",
       "cons                              1\n",
       "advice_to_mgmt                29461\n",
       "overall_ratings                   0\n",
       "work_balance_stars             7160\n",
       "culture_values_stars          13546\n",
       "career_opportunities_stars     7108\n",
       "comp_benefit_stars             7161\n",
       "senior_management_stars        7775\n",
       "helpful_count                     0\n",
       "link                              0\n",
       "dtype: int64"
      ]
     },
     "execution_count": 8,
     "metadata": {},
     "output_type": "execute_result"
    }
   ],
   "source": [
    "emp_df2 = emp_df.replace(to_replace = 'none', value = np.NaN)\n",
    "emp_df2.isnull().sum()"
   ]
  },
  {
   "cell_type": "markdown",
   "metadata": {},
   "source": [
    "By replacing 'none' with np.NaN, we can see that several columns have missing values."
   ]
  },
  {
   "cell_type": "code",
   "execution_count": 9,
   "metadata": {},
   "outputs": [
    {
     "data": {
      "text/plain": [
       "Unnamed: 0                      int64\n",
       "company                        object\n",
       "location                       object\n",
       "dates                          object\n",
       "job_title                      object\n",
       "summary                        object\n",
       "pros                           object\n",
       "cons                           object\n",
       "advice_to_mgmt                 object\n",
       "overall_ratings               float64\n",
       "work_balance_stars             object\n",
       "culture_values_stars           object\n",
       "career_opportunities_stars     object\n",
       "comp_benefit_stars             object\n",
       "senior_management_stars        object\n",
       "helpful_count                   int64\n",
       "link                           object\n",
       "dtype: object"
      ]
     },
     "execution_count": 9,
     "metadata": {},
     "output_type": "execute_result"
    }
   ],
   "source": [
    "emp_df2.dtypes"
   ]
  },
  {
   "cell_type": "markdown",
   "metadata": {},
   "source": [
    "The ratings columns (overall_ratings, work_balance_stars, culture_values_stars, career_opportunities_stars, comp_benefit_stars, senior_management_stars) are the most important variables in this project. In order to fill the missing values on them, they will be first converted from object datatype to float type. And then, the null values will be replaced with mean of the column."
   ]
  },
  {
   "cell_type": "markdown",
   "metadata": {},
   "source": [
    "# Convert object types to float and replace null values with mean of the column for better analysis"
   ]
  },
  {
   "cell_type": "code",
   "execution_count": 10,
   "metadata": {},
   "outputs": [],
   "source": [
    "emp_df2['work_balance_stars'] = emp_df2['work_balance_stars'].astype(str).astype(float)\n",
    "\n",
    "wbs_mean = emp_df2['work_balance_stars'].mean()\n",
    "\n",
    "emp_df2['work_balance_stars'] = emp_df2['work_balance_stars'].fillna(value=wbs_mean)"
   ]
  },
  {
   "cell_type": "code",
   "execution_count": 11,
   "metadata": {},
   "outputs": [],
   "source": [
    "emp_df2['culture_values_stars'] = emp_df2['culture_values_stars'].astype(str).astype(float)\n",
    "\n",
    "cvs_mean = emp_df2['culture_values_stars'].mean()\n",
    "\n",
    "emp_df2['culture_values_stars'] = emp_df2['culture_values_stars'].fillna(value=cvs_mean)"
   ]
  },
  {
   "cell_type": "code",
   "execution_count": 12,
   "metadata": {},
   "outputs": [],
   "source": [
    "emp_df2['career_opportunities_stars'] = emp_df2['career_opportunities_stars'].astype(str).astype(float)\n",
    "\n",
    "cos_mean = emp_df2['career_opportunities_stars'].mean()\n",
    "\n",
    "emp_df2['career_opportunities_stars'] = emp_df2['career_opportunities_stars'].fillna(value=cos_mean)"
   ]
  },
  {
   "cell_type": "code",
   "execution_count": 13,
   "metadata": {},
   "outputs": [],
   "source": [
    "emp_df2['comp_benefit_stars'] = emp_df2['comp_benefit_stars'].astype(str).astype(float)\n",
    "\n",
    "cbs_mean = emp_df2['comp_benefit_stars'].mean()\n",
    "\n",
    "emp_df2['comp_benefit_stars'] = emp_df2['comp_benefit_stars'].fillna(value=cbs_mean)"
   ]
  },
  {
   "cell_type": "code",
   "execution_count": 14,
   "metadata": {},
   "outputs": [],
   "source": [
    "emp_df2['senior_management_stars'] = emp_df2['senior_management_stars'].astype(str).astype(float)\n",
    "\n",
    "sms_mean = emp_df2['senior_management_stars'].mean()\n",
    "\n",
    "emp_df2['senior_management_stars'] = emp_df2['senior_management_stars'].fillna(value=sms_mean)"
   ]
  },
  {
   "cell_type": "markdown",
   "metadata": {},
   "source": [
    "# Sort the dataframe by company and fill the null values in location column using the ffill and bfill methods. "
   ]
  },
  {
   "cell_type": "code",
   "execution_count": 15,
   "metadata": {},
   "outputs": [],
   "source": [
    "emp_df_sort = emp_df2.sort_values('company')\n",
    "emp_df_sort['location'] = emp_df_sort['location'].fillna(method = 'bfill')"
   ]
  },
  {
   "cell_type": "code",
   "execution_count": 16,
   "metadata": {},
   "outputs": [
    {
     "data": {
      "text/plain": [
       "Unnamed: 0                        0\n",
       "company                           0\n",
       "location                          1\n",
       "dates                             0\n",
       "job_title                         0\n",
       "summary                         129\n",
       "pros                              0\n",
       "cons                              1\n",
       "advice_to_mgmt                29461\n",
       "overall_ratings                   0\n",
       "work_balance_stars                0\n",
       "culture_values_stars              0\n",
       "career_opportunities_stars        0\n",
       "comp_benefit_stars                0\n",
       "senior_management_stars           0\n",
       "helpful_count                     0\n",
       "link                              0\n",
       "dtype: int64"
      ]
     },
     "execution_count": 16,
     "metadata": {},
     "output_type": "execute_result"
    }
   ],
   "source": [
    "emp_df_sort.isnull().sum()"
   ]
  },
  {
   "cell_type": "code",
   "execution_count": 17,
   "metadata": {},
   "outputs": [
    {
     "data": {
      "text/html": [
       "<div>\n",
       "<style scoped>\n",
       "    .dataframe tbody tr th:only-of-type {\n",
       "        vertical-align: middle;\n",
       "    }\n",
       "\n",
       "    .dataframe tbody tr th {\n",
       "        vertical-align: top;\n",
       "    }\n",
       "\n",
       "    .dataframe thead th {\n",
       "        text-align: right;\n",
       "    }\n",
       "</style>\n",
       "<table border=\"1\" class=\"dataframe\">\n",
       "  <thead>\n",
       "    <tr style=\"text-align: right;\">\n",
       "      <th></th>\n",
       "      <th>Unnamed: 0</th>\n",
       "      <th>company</th>\n",
       "      <th>location</th>\n",
       "      <th>dates</th>\n",
       "      <th>job_title</th>\n",
       "      <th>summary</th>\n",
       "      <th>pros</th>\n",
       "      <th>cons</th>\n",
       "      <th>advice_to_mgmt</th>\n",
       "      <th>overall_ratings</th>\n",
       "      <th>work_balance_stars</th>\n",
       "      <th>culture_values_stars</th>\n",
       "      <th>career_opportunities_stars</th>\n",
       "      <th>comp_benefit_stars</th>\n",
       "      <th>senior_management_stars</th>\n",
       "      <th>helpful_count</th>\n",
       "      <th>link</th>\n",
       "    </tr>\n",
       "  </thead>\n",
       "  <tbody>\n",
       "    <tr>\n",
       "      <th>36647</th>\n",
       "      <td>36648</td>\n",
       "      <td>netflix</td>\n",
       "      <td>NaN</td>\n",
       "      <td>Apr 20, 2018</td>\n",
       "      <td>Former Employee - Anonymous Employee</td>\n",
       "      <td>Art et médias</td>\n",
       "      <td>Apprendre à travailler sur pression. Développe...</td>\n",
       "      <td>Stimuler à faire beaucoup plus qu’avant</td>\n",
       "      <td>Toujours donner l’opportunité au jeune.</td>\n",
       "      <td>5.0</td>\n",
       "      <td>3.373254</td>\n",
       "      <td>3.784451</td>\n",
       "      <td>3.634035</td>\n",
       "      <td>3.942503</td>\n",
       "      <td>3.322522</td>\n",
       "      <td>0</td>\n",
       "      <td>https://www.glassdoor.com/Reviews/Netflix-Revi...</td>\n",
       "    </tr>\n",
       "  </tbody>\n",
       "</table>\n",
       "</div>"
      ],
      "text/plain": [
       "       Unnamed: 0  company location          dates  \\\n",
       "36647       36648  netflix      NaN   Apr 20, 2018   \n",
       "\n",
       "                                  job_title        summary  \\\n",
       "36647  Former Employee - Anonymous Employee  Art et médias   \n",
       "\n",
       "                                                    pros  \\\n",
       "36647  Apprendre à travailler sur pression. Développe...   \n",
       "\n",
       "                                          cons  \\\n",
       "36647  Stimuler à faire beaucoup plus qu’avant   \n",
       "\n",
       "                                advice_to_mgmt  overall_ratings  \\\n",
       "36647  Toujours donner l’opportunité au jeune.              5.0   \n",
       "\n",
       "       work_balance_stars  culture_values_stars  career_opportunities_stars  \\\n",
       "36647            3.373254              3.784451                    3.634035   \n",
       "\n",
       "       comp_benefit_stars  senior_management_stars  helpful_count  \\\n",
       "36647            3.942503                 3.322522              0   \n",
       "\n",
       "                                                    link  \n",
       "36647  https://www.glassdoor.com/Reviews/Netflix-Revi...  "
      ]
     },
     "execution_count": 17,
     "metadata": {},
     "output_type": "execute_result"
    }
   ],
   "source": [
    "emp_df_sort[emp_df_sort['location'].isnull()]"
   ]
  },
  {
   "cell_type": "code",
   "execution_count": 18,
   "metadata": {},
   "outputs": [
    {
     "data": {
      "text/html": [
       "<div>\n",
       "<style scoped>\n",
       "    .dataframe tbody tr th:only-of-type {\n",
       "        vertical-align: middle;\n",
       "    }\n",
       "\n",
       "    .dataframe tbody tr th {\n",
       "        vertical-align: top;\n",
       "    }\n",
       "\n",
       "    .dataframe thead th {\n",
       "        text-align: right;\n",
       "    }\n",
       "</style>\n",
       "<table border=\"1\" class=\"dataframe\">\n",
       "  <thead>\n",
       "    <tr style=\"text-align: right;\">\n",
       "      <th></th>\n",
       "      <th>Unnamed: 0</th>\n",
       "      <th>company</th>\n",
       "      <th>location</th>\n",
       "      <th>dates</th>\n",
       "      <th>job_title</th>\n",
       "      <th>summary</th>\n",
       "      <th>pros</th>\n",
       "      <th>cons</th>\n",
       "      <th>advice_to_mgmt</th>\n",
       "      <th>overall_ratings</th>\n",
       "      <th>work_balance_stars</th>\n",
       "      <th>culture_values_stars</th>\n",
       "      <th>career_opportunities_stars</th>\n",
       "      <th>comp_benefit_stars</th>\n",
       "      <th>senior_management_stars</th>\n",
       "      <th>helpful_count</th>\n",
       "      <th>link</th>\n",
       "    </tr>\n",
       "  </thead>\n",
       "  <tbody>\n",
       "  </tbody>\n",
       "</table>\n",
       "</div>"
      ],
      "text/plain": [
       "Empty DataFrame\n",
       "Columns: [Unnamed: 0, company, location, dates, job_title, summary, pros, cons, advice_to_mgmt, overall_ratings, work_balance_stars, culture_values_stars, career_opportunities_stars, comp_benefit_stars, senior_management_stars, helpful_count, link]\n",
       "Index: []"
      ]
     },
     "execution_count": 18,
     "metadata": {},
     "output_type": "execute_result"
    }
   ],
   "source": [
    "emp_df_sort['location'] = emp_df_sort['location'].fillna(method = 'ffill')\n",
    "emp_df_sort[emp_df_sort['location'].isnull()]"
   ]
  },
  {
   "cell_type": "markdown",
   "metadata": {},
   "source": [
    "# Check the values in dates column"
   ]
  },
  {
   "cell_type": "code",
   "execution_count": 19,
   "metadata": {},
   "outputs": [
    {
     "data": {
      "text/plain": [
       "0"
      ]
     },
     "execution_count": 19,
     "metadata": {},
     "output_type": "execute_result"
    }
   ],
   "source": [
    "emp_df_sort['dates'].isnull().sum()"
   ]
  },
  {
   "cell_type": "markdown",
   "metadata": {},
   "source": [
    "# Convert the dates column from object to datetime"
   ]
  },
  {
   "cell_type": "code",
   "execution_count": 20,
   "metadata": {},
   "outputs": [
    {
     "data": {
      "text/html": [
       "<div>\n",
       "<style scoped>\n",
       "    .dataframe tbody tr th:only-of-type {\n",
       "        vertical-align: middle;\n",
       "    }\n",
       "\n",
       "    .dataframe tbody tr th {\n",
       "        vertical-align: top;\n",
       "    }\n",
       "\n",
       "    .dataframe thead th {\n",
       "        text-align: right;\n",
       "    }\n",
       "</style>\n",
       "<table border=\"1\" class=\"dataframe\">\n",
       "  <thead>\n",
       "    <tr style=\"text-align: right;\">\n",
       "      <th></th>\n",
       "      <th>Unnamed: 0</th>\n",
       "      <th>company</th>\n",
       "      <th>location</th>\n",
       "      <th>dates</th>\n",
       "      <th>job_title</th>\n",
       "      <th>summary</th>\n",
       "      <th>pros</th>\n",
       "      <th>cons</th>\n",
       "      <th>advice_to_mgmt</th>\n",
       "      <th>overall_ratings</th>\n",
       "      <th>work_balance_stars</th>\n",
       "      <th>culture_values_stars</th>\n",
       "      <th>career_opportunities_stars</th>\n",
       "      <th>comp_benefit_stars</th>\n",
       "      <th>senior_management_stars</th>\n",
       "      <th>helpful_count</th>\n",
       "      <th>link</th>\n",
       "    </tr>\n",
       "  </thead>\n",
       "  <tbody>\n",
       "    <tr>\n",
       "      <th>7819</th>\n",
       "      <td>7820</td>\n",
       "      <td>amazon</td>\n",
       "      <td>Phoenix, AZ</td>\n",
       "      <td>None</td>\n",
       "      <td>Current Employee - Software Development Manager</td>\n",
       "      <td>An Amazing Place to Work</td>\n",
       "      <td>I've been at Amazon for a month now, and I've ...</td>\n",
       "      <td>No cons, so far - seriously. Like I said, I'm ...</td>\n",
       "      <td>NaN</td>\n",
       "      <td>5.0</td>\n",
       "      <td>4.0</td>\n",
       "      <td>5.0</td>\n",
       "      <td>5.0</td>\n",
       "      <td>5.0</td>\n",
       "      <td>5.0</td>\n",
       "      <td>580</td>\n",
       "      <td>https://www.glassdoor.com/Reviews/Amazon-Revie...</td>\n",
       "    </tr>\n",
       "  </tbody>\n",
       "</table>\n",
       "</div>"
      ],
      "text/plain": [
       "      Unnamed: 0 company     location dates  \\\n",
       "7819        7820  amazon  Phoenix, AZ  None   \n",
       "\n",
       "                                            job_title  \\\n",
       "7819  Current Employee - Software Development Manager   \n",
       "\n",
       "                       summary  \\\n",
       "7819  An Amazing Place to Work   \n",
       "\n",
       "                                                   pros  \\\n",
       "7819  I've been at Amazon for a month now, and I've ...   \n",
       "\n",
       "                                                   cons advice_to_mgmt  \\\n",
       "7819  No cons, so far - seriously. Like I said, I'm ...            NaN   \n",
       "\n",
       "      overall_ratings  work_balance_stars  culture_values_stars  \\\n",
       "7819              5.0                 4.0                   5.0   \n",
       "\n",
       "      career_opportunities_stars  comp_benefit_stars  senior_management_stars  \\\n",
       "7819                         5.0                 5.0                      5.0   \n",
       "\n",
       "      helpful_count                                               link  \n",
       "7819            580  https://www.glassdoor.com/Reviews/Amazon-Revie...  "
      ]
     },
     "execution_count": 20,
     "metadata": {},
     "output_type": "execute_result"
    }
   ],
   "source": [
    "emp_df_sort.loc[emp_df_sort['dates'] == 'None']"
   ]
  },
  {
   "cell_type": "code",
   "execution_count": 21,
   "metadata": {},
   "outputs": [],
   "source": [
    "emp_df_sort['dates'] = pd.to_datetime(emp_df_sort['dates'], errors='coerce')"
   ]
  },
  {
   "cell_type": "markdown",
   "metadata": {},
   "source": [
    "At the end of this process, the only variables that continue to have null values are summary and advice_to_mgmt but that can be ignored for our analysis."
   ]
  }
 ],
 "metadata": {
  "kernelspec": {
   "display_name": "Python 3",
   "language": "python",
   "name": "python3"
  },
  "language_info": {
   "codemirror_mode": {
    "name": "ipython",
    "version": 3
   },
   "file_extension": ".py",
   "mimetype": "text/x-python",
   "name": "python",
   "nbconvert_exporter": "python",
   "pygments_lexer": "ipython3",
   "version": "3.7.1"
  }
 },
 "nbformat": 4,
 "nbformat_minor": 2
}
