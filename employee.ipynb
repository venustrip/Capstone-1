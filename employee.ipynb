{
 "cells": [
  {
   "cell_type": "markdown",
   "metadata": {},
   "source": [
    "#                   Capstone Project 1: Employer Ratings Analysis"
   ]
  },
  {
   "cell_type": "markdown",
   "metadata": {},
   "source": [
    "# Data Wrangling Steps:\n",
    "The data has been acquired as a csv file from https://www.kaggle.com/petersunga/google-amazon-facebook-employee-reviews. It #was created by web scraping over 67K employee reviews for employers such as Amazon, Apple, Google, Facebook, Microsoft and #Netflix. The reviews were collected over a time span of 10 years (2009-2018)."
   ]
  },
  {
   "cell_type": "code",
   "execution_count": 1,
   "metadata": {},
   "outputs": [],
   "source": [
    "# Import packages and read the csv file into a pandas DataFrame.\n",
    "import numpy as np\n",
    "import pandas as pd\n",
    "from matplotlib import pyplot as plt\n",
    "%matplotlib inline\n",
    "import seaborn as sns\n",
    "emp_df = pd.read_csv('employee_reviews.csv')"
   ]
  },
  {
   "cell_type": "code",
   "execution_count": 2,
   "metadata": {},
   "outputs": [
    {
     "name": "stdout",
     "output_type": "stream",
     "text": [
      "<class 'pandas.core.frame.DataFrame'>\n",
      "RangeIndex: 67529 entries, 0 to 67528\n",
      "Data columns (total 17 columns):\n",
      "Unnamed: 0                    67529 non-null int64\n",
      "company                       67529 non-null object\n",
      "location                      67529 non-null object\n",
      "dates                         67529 non-null object\n",
      "job-title                     67529 non-null object\n",
      "summary                       67409 non-null object\n",
      "pros                          67529 non-null object\n",
      "cons                          67529 non-null object\n",
      "advice-to-mgmt                67232 non-null object\n",
      "overall-ratings               67529 non-null float64\n",
      "work-balance-stars            67529 non-null object\n",
      "culture-values-stars          67529 non-null object\n",
      "carrer-opportunities-stars    67529 non-null object\n",
      "comp-benefit-stars            67529 non-null object\n",
      "senior-mangemnet-stars        67529 non-null object\n",
      "helpful-count                 67529 non-null int64\n",
      "link                          67529 non-null object\n",
      "dtypes: float64(1), int64(2), object(14)\n",
      "memory usage: 8.8+ MB\n"
     ]
    }
   ],
   "source": [
    "emp_df.info()"
   ]
  },
  {
   "cell_type": "code",
   "execution_count": 3,
   "metadata": {},
   "outputs": [
    {
     "data": {
      "text/html": [
       "<div>\n",
       "<style scoped>\n",
       "    .dataframe tbody tr th:only-of-type {\n",
       "        vertical-align: middle;\n",
       "    }\n",
       "\n",
       "    .dataframe tbody tr th {\n",
       "        vertical-align: top;\n",
       "    }\n",
       "\n",
       "    .dataframe thead th {\n",
       "        text-align: right;\n",
       "    }\n",
       "</style>\n",
       "<table border=\"1\" class=\"dataframe\">\n",
       "  <thead>\n",
       "    <tr style=\"text-align: right;\">\n",
       "      <th></th>\n",
       "      <th>Unnamed: 0</th>\n",
       "      <th>company</th>\n",
       "      <th>location</th>\n",
       "      <th>dates</th>\n",
       "      <th>job-title</th>\n",
       "      <th>summary</th>\n",
       "      <th>pros</th>\n",
       "      <th>cons</th>\n",
       "      <th>advice-to-mgmt</th>\n",
       "      <th>overall-ratings</th>\n",
       "      <th>work-balance-stars</th>\n",
       "      <th>culture-values-stars</th>\n",
       "      <th>carrer-opportunities-stars</th>\n",
       "      <th>comp-benefit-stars</th>\n",
       "      <th>senior-mangemnet-stars</th>\n",
       "      <th>helpful-count</th>\n",
       "      <th>link</th>\n",
       "    </tr>\n",
       "  </thead>\n",
       "  <tbody>\n",
       "    <tr>\n",
       "      <th>0</th>\n",
       "      <td>1</td>\n",
       "      <td>google</td>\n",
       "      <td>none</td>\n",
       "      <td>Dec 11, 2018</td>\n",
       "      <td>Current Employee - Anonymous Employee</td>\n",
       "      <td>Best Company to work for</td>\n",
       "      <td>People are smart and friendly</td>\n",
       "      <td>Bureaucracy is slowing things down</td>\n",
       "      <td>none</td>\n",
       "      <td>5.0</td>\n",
       "      <td>4.0</td>\n",
       "      <td>5.0</td>\n",
       "      <td>5.0</td>\n",
       "      <td>4.0</td>\n",
       "      <td>5.0</td>\n",
       "      <td>0</td>\n",
       "      <td>https://www.glassdoor.com/Reviews/Google-Revie...</td>\n",
       "    </tr>\n",
       "    <tr>\n",
       "      <th>1</th>\n",
       "      <td>2</td>\n",
       "      <td>google</td>\n",
       "      <td>Mountain View, CA</td>\n",
       "      <td>Jun 21, 2013</td>\n",
       "      <td>Former Employee - Program Manager</td>\n",
       "      <td>Moving at the speed of light, burn out is inev...</td>\n",
       "      <td>1) Food, food, food. 15+ cafes on main campus ...</td>\n",
       "      <td>1) Work/life balance. What balance? All those ...</td>\n",
       "      <td>1) Don't dismiss emotional intelligence and ad...</td>\n",
       "      <td>4.0</td>\n",
       "      <td>2.0</td>\n",
       "      <td>3.0</td>\n",
       "      <td>3.0</td>\n",
       "      <td>5.0</td>\n",
       "      <td>3.0</td>\n",
       "      <td>2094</td>\n",
       "      <td>https://www.glassdoor.com/Reviews/Google-Revie...</td>\n",
       "    </tr>\n",
       "    <tr>\n",
       "      <th>2</th>\n",
       "      <td>3</td>\n",
       "      <td>google</td>\n",
       "      <td>New York, NY</td>\n",
       "      <td>May 10, 2014</td>\n",
       "      <td>Current Employee - Software Engineer III</td>\n",
       "      <td>Great balance between big-company security and...</td>\n",
       "      <td>* If you're a software engineer, you're among ...</td>\n",
       "      <td>* It *is* becoming larger, and with it comes g...</td>\n",
       "      <td>Keep the focus on the user. Everything else wi...</td>\n",
       "      <td>5.0</td>\n",
       "      <td>5.0</td>\n",
       "      <td>4.0</td>\n",
       "      <td>5.0</td>\n",
       "      <td>5.0</td>\n",
       "      <td>4.0</td>\n",
       "      <td>949</td>\n",
       "      <td>https://www.glassdoor.com/Reviews/Google-Revie...</td>\n",
       "    </tr>\n",
       "    <tr>\n",
       "      <th>3</th>\n",
       "      <td>4</td>\n",
       "      <td>google</td>\n",
       "      <td>Mountain View, CA</td>\n",
       "      <td>Feb 8, 2015</td>\n",
       "      <td>Current Employee - Anonymous Employee</td>\n",
       "      <td>The best place I've worked and also the most d...</td>\n",
       "      <td>You can't find a more well-regarded company th...</td>\n",
       "      <td>I live in SF so the commute can take between 1...</td>\n",
       "      <td>Keep on NOT micromanaging - that is a huge ben...</td>\n",
       "      <td>5.0</td>\n",
       "      <td>2.0</td>\n",
       "      <td>5.0</td>\n",
       "      <td>5.0</td>\n",
       "      <td>4.0</td>\n",
       "      <td>5.0</td>\n",
       "      <td>498</td>\n",
       "      <td>https://www.glassdoor.com/Reviews/Google-Revie...</td>\n",
       "    </tr>\n",
       "    <tr>\n",
       "      <th>4</th>\n",
       "      <td>5</td>\n",
       "      <td>google</td>\n",
       "      <td>Los Angeles, CA</td>\n",
       "      <td>Jul 19, 2018</td>\n",
       "      <td>Former Employee - Software Engineer</td>\n",
       "      <td>Unique, one of a kind dream job</td>\n",
       "      <td>Google is a world of its own. At every other c...</td>\n",
       "      <td>If you don't work in MTV (HQ), you will be giv...</td>\n",
       "      <td>Promote managers into management for their man...</td>\n",
       "      <td>5.0</td>\n",
       "      <td>5.0</td>\n",
       "      <td>5.0</td>\n",
       "      <td>5.0</td>\n",
       "      <td>5.0</td>\n",
       "      <td>5.0</td>\n",
       "      <td>49</td>\n",
       "      <td>https://www.glassdoor.com/Reviews/Google-Revie...</td>\n",
       "    </tr>\n",
       "  </tbody>\n",
       "</table>\n",
       "</div>"
      ],
      "text/plain": [
       "   Unnamed: 0 company           location          dates  \\\n",
       "0           1  google               none   Dec 11, 2018   \n",
       "1           2  google  Mountain View, CA   Jun 21, 2013   \n",
       "2           3  google       New York, NY   May 10, 2014   \n",
       "3           4  google  Mountain View, CA    Feb 8, 2015   \n",
       "4           5  google    Los Angeles, CA   Jul 19, 2018   \n",
       "\n",
       "                                  job-title  \\\n",
       "0     Current Employee - Anonymous Employee   \n",
       "1         Former Employee - Program Manager   \n",
       "2  Current Employee - Software Engineer III   \n",
       "3     Current Employee - Anonymous Employee   \n",
       "4       Former Employee - Software Engineer   \n",
       "\n",
       "                                             summary  \\\n",
       "0                           Best Company to work for   \n",
       "1  Moving at the speed of light, burn out is inev...   \n",
       "2  Great balance between big-company security and...   \n",
       "3  The best place I've worked and also the most d...   \n",
       "4                    Unique, one of a kind dream job   \n",
       "\n",
       "                                                pros  \\\n",
       "0                      People are smart and friendly   \n",
       "1  1) Food, food, food. 15+ cafes on main campus ...   \n",
       "2  * If you're a software engineer, you're among ...   \n",
       "3  You can't find a more well-regarded company th...   \n",
       "4  Google is a world of its own. At every other c...   \n",
       "\n",
       "                                                cons  \\\n",
       "0                 Bureaucracy is slowing things down   \n",
       "1  1) Work/life balance. What balance? All those ...   \n",
       "2  * It *is* becoming larger, and with it comes g...   \n",
       "3  I live in SF so the commute can take between 1...   \n",
       "4  If you don't work in MTV (HQ), you will be giv...   \n",
       "\n",
       "                                      advice-to-mgmt  overall-ratings  \\\n",
       "0                                               none              5.0   \n",
       "1  1) Don't dismiss emotional intelligence and ad...              4.0   \n",
       "2  Keep the focus on the user. Everything else wi...              5.0   \n",
       "3  Keep on NOT micromanaging - that is a huge ben...              5.0   \n",
       "4  Promote managers into management for their man...              5.0   \n",
       "\n",
       "  work-balance-stars culture-values-stars carrer-opportunities-stars  \\\n",
       "0                4.0                  5.0                        5.0   \n",
       "1                2.0                  3.0                        3.0   \n",
       "2                5.0                  4.0                        5.0   \n",
       "3                2.0                  5.0                        5.0   \n",
       "4                5.0                  5.0                        5.0   \n",
       "\n",
       "  comp-benefit-stars senior-mangemnet-stars  helpful-count  \\\n",
       "0                4.0                    5.0              0   \n",
       "1                5.0                    3.0           2094   \n",
       "2                5.0                    4.0            949   \n",
       "3                4.0                    5.0            498   \n",
       "4                5.0                    5.0             49   \n",
       "\n",
       "                                                link  \n",
       "0  https://www.glassdoor.com/Reviews/Google-Revie...  \n",
       "1  https://www.glassdoor.com/Reviews/Google-Revie...  \n",
       "2  https://www.glassdoor.com/Reviews/Google-Revie...  \n",
       "3  https://www.glassdoor.com/Reviews/Google-Revie...  \n",
       "4  https://www.glassdoor.com/Reviews/Google-Revie...  "
      ]
     },
     "execution_count": 3,
     "metadata": {},
     "output_type": "execute_result"
    }
   ],
   "source": [
    "emp_df.head()"
   ]
  },
  {
   "cell_type": "markdown",
   "metadata": {},
   "source": [
    "The dataset consists of 67529 observations with 17 columns. "
   ]
  },
  {
   "cell_type": "markdown",
   "metadata": {},
   "source": [
    "This is a real world dataset. Therefore, it is likely to contain null and missing values. The columns are poorly labeled so my first step here is to rename them."
   ]
  },
  {
   "cell_type": "code",
   "execution_count": 4,
   "metadata": {},
   "outputs": [],
   "source": [
    "emp_df = emp_df.rename(columns = {\"job-title\": \"job_title\", \"advice-to-mgmt\": \"advice_to_mgmt\", \n",
    "                                        \"overall-ratings\": \"overall_ratings\", \"work-balance-stars\": \"work_balance_stars\", \n",
    "                                        \"culture-values-stars\": \"culture_values_stars\", \"helpful-count\": \"helpful_count\",\n",
    "                                        \"carrer-opportunities-stars\": \"career_opportunities_stars\",\n",
    "                                        \"comp-benefit-stars\": \"comp_benefit_stars\", \"senior-mangemnet-stars\": \"senior_management_stars\"})"
   ]
  },
  {
   "cell_type": "markdown",
   "metadata": {},
   "source": [
    "Next, we will check for null values in all columns. It would be also helpful to find the unique values in some of the columns for proper identification of nulls."
   ]
  },
  {
   "cell_type": "code",
   "execution_count": 5,
   "metadata": {},
   "outputs": [
    {
     "data": {
      "text/plain": [
       "Unnamed: 0                      0\n",
       "company                         0\n",
       "location                        0\n",
       "dates                           0\n",
       "job_title                       0\n",
       "summary                       120\n",
       "pros                            0\n",
       "cons                            0\n",
       "advice_to_mgmt                297\n",
       "overall_ratings                 0\n",
       "work_balance_stars              0\n",
       "culture_values_stars            0\n",
       "career_opportunities_stars      0\n",
       "comp_benefit_stars              0\n",
       "senior_management_stars         0\n",
       "helpful_count                   0\n",
       "link                            0\n",
       "dtype: int64"
      ]
     },
     "execution_count": 5,
     "metadata": {},
     "output_type": "execute_result"
    }
   ],
   "source": [
    "emp_df.isnull().sum()"
   ]
  },
  {
   "cell_type": "code",
   "execution_count": 6,
   "metadata": {},
   "outputs": [
    {
     "data": {
      "text/plain": [
       "array(['none', 'Mountain View, CA', 'New York, NY', ...,\n",
       "       'Srinagar, Jammu and Kashmir (India)', 'Blackburn, England (UK)',\n",
       "       'Pudong, Shanghai (China)'], dtype=object)"
      ]
     },
     "execution_count": 6,
     "metadata": {},
     "output_type": "execute_result"
    }
   ],
   "source": [
    "emp_df['location'].unique()"
   ]
  },
  {
   "cell_type": "code",
   "execution_count": 7,
   "metadata": {},
   "outputs": [
    {
     "data": {
      "text/plain": [
       "array(['5.0', '3.0', '4.0', 'none', '2.0', '1.0'], dtype=object)"
      ]
     },
     "execution_count": 7,
     "metadata": {},
     "output_type": "execute_result"
    }
   ],
   "source": [
    "emp_df['culture_values_stars'].unique()"
   ]
  },
  {
   "cell_type": "code",
   "execution_count": 8,
   "metadata": {},
   "outputs": [
    {
     "data": {
      "text/plain": [
       "Unnamed: 0                        0\n",
       "company                           0\n",
       "location                      25085\n",
       "dates                             0\n",
       "job_title                         0\n",
       "summary                         129\n",
       "pros                              0\n",
       "cons                              1\n",
       "advice_to_mgmt                29461\n",
       "overall_ratings                   0\n",
       "work_balance_stars             7160\n",
       "culture_values_stars          13546\n",
       "career_opportunities_stars     7108\n",
       "comp_benefit_stars             7161\n",
       "senior_management_stars        7775\n",
       "helpful_count                     0\n",
       "link                              0\n",
       "dtype: int64"
      ]
     },
     "execution_count": 8,
     "metadata": {},
     "output_type": "execute_result"
    }
   ],
   "source": [
    "# Some columns have “none” as value. So they do not qualify as missing value, even though they are null. \n",
    "# By replacing all “none” values with np.NaN, they can be identified as a null value.\n",
    "emp_df2 = emp_df.replace(to_replace = 'none', value = np.NaN)\n",
    "emp_df2.isnull().sum()"
   ]
  },
  {
   "cell_type": "code",
   "execution_count": 9,
   "metadata": {},
   "outputs": [
    {
     "data": {
      "text/plain": [
       "Unnamed: 0                      int64\n",
       "company                        object\n",
       "location                       object\n",
       "dates                          object\n",
       "job_title                      object\n",
       "summary                        object\n",
       "pros                           object\n",
       "cons                           object\n",
       "advice_to_mgmt                 object\n",
       "overall_ratings               float64\n",
       "work_balance_stars             object\n",
       "culture_values_stars           object\n",
       "career_opportunities_stars     object\n",
       "comp_benefit_stars             object\n",
       "senior_management_stars        object\n",
       "helpful_count                   int64\n",
       "link                           object\n",
       "dtype: object"
      ]
     },
     "execution_count": 9,
     "metadata": {},
     "output_type": "execute_result"
    }
   ],
   "source": [
    "# By replacing 'none' with np.NaN, we will see that several columns have missing values.\n",
    "emp_df2.dtypes"
   ]
  },
  {
   "cell_type": "markdown",
   "metadata": {},
   "source": [
    "The ratings columns (overall_ratings, work_balance_stars, culture_values_stars, career_opportunities_stars, comp_benefit_stars, senior_management_stars) are the most important variables in this project. In order to fill the missing values on them, they will be first converted from object datatype to float type. And then, the null values will be replaced with mean of the column."
   ]
  },
  {
   "cell_type": "code",
   "execution_count": 10,
   "metadata": {},
   "outputs": [],
   "source": [
    "emp_df2['work_balance_stars'] = emp_df2['work_balance_stars'].astype(str).astype(float)\n",
    "\n",
    "wbs_mean = emp_df2['work_balance_stars'].mean()\n",
    "\n",
    "emp_df2['work_balance_stars'] = emp_df2['work_balance_stars'].fillna(value=wbs_mean)"
   ]
  },
  {
   "cell_type": "code",
   "execution_count": 11,
   "metadata": {},
   "outputs": [],
   "source": [
    "emp_df2['culture_values_stars'] = emp_df2['culture_values_stars'].astype(str).astype(float)\n",
    "\n",
    "cvs_mean = emp_df2['culture_values_stars'].mean()\n",
    "\n",
    "emp_df2['culture_values_stars'] = emp_df2['culture_values_stars'].fillna(value=cvs_mean)"
   ]
  },
  {
   "cell_type": "code",
   "execution_count": 12,
   "metadata": {},
   "outputs": [],
   "source": [
    "emp_df2['career_opportunities_stars'] = emp_df2['career_opportunities_stars'].astype(str).astype(float)\n",
    "\n",
    "cos_mean = emp_df2['career_opportunities_stars'].mean()\n",
    "\n",
    "emp_df2['career_opportunities_stars'] = emp_df2['career_opportunities_stars'].fillna(value=cos_mean)"
   ]
  },
  {
   "cell_type": "code",
   "execution_count": 13,
   "metadata": {},
   "outputs": [],
   "source": [
    "emp_df2['comp_benefit_stars'] = emp_df2['comp_benefit_stars'].astype(str).astype(float)\n",
    "\n",
    "cbs_mean = emp_df2['comp_benefit_stars'].mean()\n",
    "\n",
    "emp_df2['comp_benefit_stars'] = emp_df2['comp_benefit_stars'].fillna(value=cbs_mean)"
   ]
  },
  {
   "cell_type": "code",
   "execution_count": 14,
   "metadata": {},
   "outputs": [],
   "source": [
    "emp_df2['senior_management_stars'] = emp_df2['senior_management_stars'].astype(str).astype(float)\n",
    "\n",
    "sms_mean = emp_df2['senior_management_stars'].mean()\n",
    "\n",
    "emp_df2['senior_management_stars'] = emp_df2['senior_management_stars'].fillna(value=sms_mean)"
   ]
  },
  {
   "cell_type": "code",
   "execution_count": 15,
   "metadata": {},
   "outputs": [],
   "source": [
    "# Sort the dataframe by company and fill the null values in location column using the ffill and bfill methods.\n",
    "emp_df_sort = emp_df2.sort_values('company')\n",
    "emp_df_sort['location'] = emp_df_sort['location'].fillna(method = 'bfill')"
   ]
  },
  {
   "cell_type": "code",
   "execution_count": 16,
   "metadata": {},
   "outputs": [
    {
     "data": {
      "text/plain": [
       "Unnamed: 0                        0\n",
       "company                           0\n",
       "location                          1\n",
       "dates                             0\n",
       "job_title                         0\n",
       "summary                         129\n",
       "pros                              0\n",
       "cons                              1\n",
       "advice_to_mgmt                29461\n",
       "overall_ratings                   0\n",
       "work_balance_stars                0\n",
       "culture_values_stars              0\n",
       "career_opportunities_stars        0\n",
       "comp_benefit_stars                0\n",
       "senior_management_stars           0\n",
       "helpful_count                     0\n",
       "link                              0\n",
       "dtype: int64"
      ]
     },
     "execution_count": 16,
     "metadata": {},
     "output_type": "execute_result"
    }
   ],
   "source": [
    "emp_df_sort.isnull().sum()"
   ]
  },
  {
   "cell_type": "code",
   "execution_count": 17,
   "metadata": {},
   "outputs": [
    {
     "data": {
      "text/html": [
       "<div>\n",
       "<style scoped>\n",
       "    .dataframe tbody tr th:only-of-type {\n",
       "        vertical-align: middle;\n",
       "    }\n",
       "\n",
       "    .dataframe tbody tr th {\n",
       "        vertical-align: top;\n",
       "    }\n",
       "\n",
       "    .dataframe thead th {\n",
       "        text-align: right;\n",
       "    }\n",
       "</style>\n",
       "<table border=\"1\" class=\"dataframe\">\n",
       "  <thead>\n",
       "    <tr style=\"text-align: right;\">\n",
       "      <th></th>\n",
       "      <th>Unnamed: 0</th>\n",
       "      <th>company</th>\n",
       "      <th>location</th>\n",
       "      <th>dates</th>\n",
       "      <th>job_title</th>\n",
       "      <th>summary</th>\n",
       "      <th>pros</th>\n",
       "      <th>cons</th>\n",
       "      <th>advice_to_mgmt</th>\n",
       "      <th>overall_ratings</th>\n",
       "      <th>work_balance_stars</th>\n",
       "      <th>culture_values_stars</th>\n",
       "      <th>career_opportunities_stars</th>\n",
       "      <th>comp_benefit_stars</th>\n",
       "      <th>senior_management_stars</th>\n",
       "      <th>helpful_count</th>\n",
       "      <th>link</th>\n",
       "    </tr>\n",
       "  </thead>\n",
       "  <tbody>\n",
       "    <tr>\n",
       "      <th>36647</th>\n",
       "      <td>36648</td>\n",
       "      <td>netflix</td>\n",
       "      <td>NaN</td>\n",
       "      <td>Apr 20, 2018</td>\n",
       "      <td>Former Employee - Anonymous Employee</td>\n",
       "      <td>Art et médias</td>\n",
       "      <td>Apprendre à travailler sur pression. Développe...</td>\n",
       "      <td>Stimuler à faire beaucoup plus qu’avant</td>\n",
       "      <td>Toujours donner l’opportunité au jeune.</td>\n",
       "      <td>5.0</td>\n",
       "      <td>3.373254</td>\n",
       "      <td>3.784451</td>\n",
       "      <td>3.634035</td>\n",
       "      <td>3.942503</td>\n",
       "      <td>3.322522</td>\n",
       "      <td>0</td>\n",
       "      <td>https://www.glassdoor.com/Reviews/Netflix-Revi...</td>\n",
       "    </tr>\n",
       "  </tbody>\n",
       "</table>\n",
       "</div>"
      ],
      "text/plain": [
       "       Unnamed: 0  company location          dates  \\\n",
       "36647       36648  netflix      NaN   Apr 20, 2018   \n",
       "\n",
       "                                  job_title        summary  \\\n",
       "36647  Former Employee - Anonymous Employee  Art et médias   \n",
       "\n",
       "                                                    pros  \\\n",
       "36647  Apprendre à travailler sur pression. Développe...   \n",
       "\n",
       "                                          cons  \\\n",
       "36647  Stimuler à faire beaucoup plus qu’avant   \n",
       "\n",
       "                                advice_to_mgmt  overall_ratings  \\\n",
       "36647  Toujours donner l’opportunité au jeune.              5.0   \n",
       "\n",
       "       work_balance_stars  culture_values_stars  career_opportunities_stars  \\\n",
       "36647            3.373254              3.784451                    3.634035   \n",
       "\n",
       "       comp_benefit_stars  senior_management_stars  helpful_count  \\\n",
       "36647            3.942503                 3.322522              0   \n",
       "\n",
       "                                                    link  \n",
       "36647  https://www.glassdoor.com/Reviews/Netflix-Revi...  "
      ]
     },
     "execution_count": 17,
     "metadata": {},
     "output_type": "execute_result"
    }
   ],
   "source": [
    "emp_df_sort[emp_df_sort['location'].isnull()]"
   ]
  },
  {
   "cell_type": "code",
   "execution_count": 18,
   "metadata": {},
   "outputs": [
    {
     "data": {
      "text/html": [
       "<div>\n",
       "<style scoped>\n",
       "    .dataframe tbody tr th:only-of-type {\n",
       "        vertical-align: middle;\n",
       "    }\n",
       "\n",
       "    .dataframe tbody tr th {\n",
       "        vertical-align: top;\n",
       "    }\n",
       "\n",
       "    .dataframe thead th {\n",
       "        text-align: right;\n",
       "    }\n",
       "</style>\n",
       "<table border=\"1\" class=\"dataframe\">\n",
       "  <thead>\n",
       "    <tr style=\"text-align: right;\">\n",
       "      <th></th>\n",
       "      <th>Unnamed: 0</th>\n",
       "      <th>company</th>\n",
       "      <th>location</th>\n",
       "      <th>dates</th>\n",
       "      <th>job_title</th>\n",
       "      <th>summary</th>\n",
       "      <th>pros</th>\n",
       "      <th>cons</th>\n",
       "      <th>advice_to_mgmt</th>\n",
       "      <th>overall_ratings</th>\n",
       "      <th>work_balance_stars</th>\n",
       "      <th>culture_values_stars</th>\n",
       "      <th>career_opportunities_stars</th>\n",
       "      <th>comp_benefit_stars</th>\n",
       "      <th>senior_management_stars</th>\n",
       "      <th>helpful_count</th>\n",
       "      <th>link</th>\n",
       "    </tr>\n",
       "  </thead>\n",
       "  <tbody>\n",
       "  </tbody>\n",
       "</table>\n",
       "</div>"
      ],
      "text/plain": [
       "Empty DataFrame\n",
       "Columns: [Unnamed: 0, company, location, dates, job_title, summary, pros, cons, advice_to_mgmt, overall_ratings, work_balance_stars, culture_values_stars, career_opportunities_stars, comp_benefit_stars, senior_management_stars, helpful_count, link]\n",
       "Index: []"
      ]
     },
     "execution_count": 18,
     "metadata": {},
     "output_type": "execute_result"
    }
   ],
   "source": [
    "emp_df_sort['location'] = emp_df_sort['location'].fillna(method = 'ffill')\n",
    "emp_df_sort[emp_df_sort['location'].isnull()]"
   ]
  },
  {
   "cell_type": "code",
   "execution_count": 19,
   "metadata": {},
   "outputs": [
    {
     "data": {
      "text/plain": [
       "0"
      ]
     },
     "execution_count": 19,
     "metadata": {},
     "output_type": "execute_result"
    }
   ],
   "source": [
    "emp_df_sort['dates'].isnull().sum()"
   ]
  },
  {
   "cell_type": "code",
   "execution_count": 20,
   "metadata": {},
   "outputs": [
    {
     "data": {
      "text/html": [
       "<div>\n",
       "<style scoped>\n",
       "    .dataframe tbody tr th:only-of-type {\n",
       "        vertical-align: middle;\n",
       "    }\n",
       "\n",
       "    .dataframe tbody tr th {\n",
       "        vertical-align: top;\n",
       "    }\n",
       "\n",
       "    .dataframe thead th {\n",
       "        text-align: right;\n",
       "    }\n",
       "</style>\n",
       "<table border=\"1\" class=\"dataframe\">\n",
       "  <thead>\n",
       "    <tr style=\"text-align: right;\">\n",
       "      <th></th>\n",
       "      <th>Unnamed: 0</th>\n",
       "      <th>company</th>\n",
       "      <th>location</th>\n",
       "      <th>dates</th>\n",
       "      <th>job_title</th>\n",
       "      <th>summary</th>\n",
       "      <th>pros</th>\n",
       "      <th>cons</th>\n",
       "      <th>advice_to_mgmt</th>\n",
       "      <th>overall_ratings</th>\n",
       "      <th>work_balance_stars</th>\n",
       "      <th>culture_values_stars</th>\n",
       "      <th>career_opportunities_stars</th>\n",
       "      <th>comp_benefit_stars</th>\n",
       "      <th>senior_management_stars</th>\n",
       "      <th>helpful_count</th>\n",
       "      <th>link</th>\n",
       "    </tr>\n",
       "  </thead>\n",
       "  <tbody>\n",
       "    <tr>\n",
       "      <th>7819</th>\n",
       "      <td>7820</td>\n",
       "      <td>amazon</td>\n",
       "      <td>Phoenix, AZ</td>\n",
       "      <td>None</td>\n",
       "      <td>Current Employee - Software Development Manager</td>\n",
       "      <td>An Amazing Place to Work</td>\n",
       "      <td>I've been at Amazon for a month now, and I've ...</td>\n",
       "      <td>No cons, so far - seriously. Like I said, I'm ...</td>\n",
       "      <td>NaN</td>\n",
       "      <td>5.0</td>\n",
       "      <td>4.0</td>\n",
       "      <td>5.0</td>\n",
       "      <td>5.0</td>\n",
       "      <td>5.0</td>\n",
       "      <td>5.0</td>\n",
       "      <td>580</td>\n",
       "      <td>https://www.glassdoor.com/Reviews/Amazon-Revie...</td>\n",
       "    </tr>\n",
       "  </tbody>\n",
       "</table>\n",
       "</div>"
      ],
      "text/plain": [
       "      Unnamed: 0 company     location dates  \\\n",
       "7819        7820  amazon  Phoenix, AZ  None   \n",
       "\n",
       "                                            job_title  \\\n",
       "7819  Current Employee - Software Development Manager   \n",
       "\n",
       "                       summary  \\\n",
       "7819  An Amazing Place to Work   \n",
       "\n",
       "                                                   pros  \\\n",
       "7819  I've been at Amazon for a month now, and I've ...   \n",
       "\n",
       "                                                   cons advice_to_mgmt  \\\n",
       "7819  No cons, so far - seriously. Like I said, I'm ...            NaN   \n",
       "\n",
       "      overall_ratings  work_balance_stars  culture_values_stars  \\\n",
       "7819              5.0                 4.0                   5.0   \n",
       "\n",
       "      career_opportunities_stars  comp_benefit_stars  senior_management_stars  \\\n",
       "7819                         5.0                 5.0                      5.0   \n",
       "\n",
       "      helpful_count                                               link  \n",
       "7819            580  https://www.glassdoor.com/Reviews/Amazon-Revie...  "
      ]
     },
     "execution_count": 20,
     "metadata": {},
     "output_type": "execute_result"
    }
   ],
   "source": [
    "emp_df_sort.loc[emp_df_sort['dates'] == 'None']"
   ]
  },
  {
   "cell_type": "code",
   "execution_count": 21,
   "metadata": {},
   "outputs": [
    {
     "data": {
      "text/html": [
       "<div>\n",
       "<style scoped>\n",
       "    .dataframe tbody tr th:only-of-type {\n",
       "        vertical-align: middle;\n",
       "    }\n",
       "\n",
       "    .dataframe tbody tr th {\n",
       "        vertical-align: top;\n",
       "    }\n",
       "\n",
       "    .dataframe thead th {\n",
       "        text-align: right;\n",
       "    }\n",
       "</style>\n",
       "<table border=\"1\" class=\"dataframe\">\n",
       "  <thead>\n",
       "    <tr style=\"text-align: right;\">\n",
       "      <th></th>\n",
       "      <th>Unnamed: 0</th>\n",
       "      <th>company</th>\n",
       "      <th>location</th>\n",
       "      <th>dates</th>\n",
       "      <th>job_title</th>\n",
       "      <th>summary</th>\n",
       "      <th>pros</th>\n",
       "      <th>cons</th>\n",
       "      <th>advice_to_mgmt</th>\n",
       "      <th>overall_ratings</th>\n",
       "      <th>work_balance_stars</th>\n",
       "      <th>culture_values_stars</th>\n",
       "      <th>career_opportunities_stars</th>\n",
       "      <th>comp_benefit_stars</th>\n",
       "      <th>senior_management_stars</th>\n",
       "      <th>helpful_count</th>\n",
       "      <th>link</th>\n",
       "    </tr>\n",
       "  </thead>\n",
       "  <tbody>\n",
       "    <tr>\n",
       "      <th>33764</th>\n",
       "      <td>33765</td>\n",
       "      <td>amazon</td>\n",
       "      <td>Chennai (India)</td>\n",
       "      <td>2012-03-29</td>\n",
       "      <td>Former Employee - Anonymous Employee</td>\n",
       "      <td>Exp Review</td>\n",
       "      <td>great place to work for women very comfortable...</td>\n",
       "      <td>you should be self-motivated, in order to grow...</td>\n",
       "      <td>NaN</td>\n",
       "      <td>5.0</td>\n",
       "      <td>4.5</td>\n",
       "      <td>3.784451</td>\n",
       "      <td>3.5</td>\n",
       "      <td>5.0</td>\n",
       "      <td>2.5</td>\n",
       "      <td>0</td>\n",
       "      <td>https://www.glassdoor.com/Reviews/Amazon-Revie...</td>\n",
       "    </tr>\n",
       "    <tr>\n",
       "      <th>22841</th>\n",
       "      <td>22842</td>\n",
       "      <td>amazon</td>\n",
       "      <td>Charleston, TN</td>\n",
       "      <td>2014-12-30</td>\n",
       "      <td>Former Employee - Warehouse</td>\n",
       "      <td>Great job for mindless zombies, or someone in ...</td>\n",
       "      <td>pay was only about $11.00 an hour, so absolute...</td>\n",
       "      <td>Everything: long hours, horrible schedules, ve...</td>\n",
       "      <td>Be nice, floor workers are tired of your BS.</td>\n",
       "      <td>2.0</td>\n",
       "      <td>1.0</td>\n",
       "      <td>1.000000</td>\n",
       "      <td>1.0</td>\n",
       "      <td>2.0</td>\n",
       "      <td>1.0</td>\n",
       "      <td>3</td>\n",
       "      <td>https://www.glassdoor.com/Reviews/Amazon-Revie...</td>\n",
       "    </tr>\n",
       "    <tr>\n",
       "      <th>22840</th>\n",
       "      <td>22841</td>\n",
       "      <td>amazon</td>\n",
       "      <td>Seattle, WA</td>\n",
       "      <td>2014-12-23</td>\n",
       "      <td>Current Employee - Software Development Engineer</td>\n",
       "      <td>Good place to work right out of school</td>\n",
       "      <td>You learn a lot in a short time period here, a...</td>\n",
       "      <td>Expectations of how much you should work seem ...</td>\n",
       "      <td>Train your dev managers better. I have yet to ...</td>\n",
       "      <td>4.0</td>\n",
       "      <td>3.0</td>\n",
       "      <td>5.000000</td>\n",
       "      <td>4.0</td>\n",
       "      <td>4.0</td>\n",
       "      <td>4.0</td>\n",
       "      <td>0</td>\n",
       "      <td>https://www.glassdoor.com/Reviews/Amazon-Revie...</td>\n",
       "    </tr>\n",
       "    <tr>\n",
       "      <th>22839</th>\n",
       "      <td>22840</td>\n",
       "      <td>amazon</td>\n",
       "      <td>Avenel, NJ</td>\n",
       "      <td>2014-12-25</td>\n",
       "      <td>Current Employee - Anonymous Employee</td>\n",
       "      <td>Good job</td>\n",
       "      <td>Good pay and friendly environment</td>\n",
       "      <td>Long hard hours and short breaks</td>\n",
       "      <td>Nothing</td>\n",
       "      <td>4.0</td>\n",
       "      <td>2.0</td>\n",
       "      <td>5.000000</td>\n",
       "      <td>5.0</td>\n",
       "      <td>4.0</td>\n",
       "      <td>3.0</td>\n",
       "      <td>0</td>\n",
       "      <td>https://www.glassdoor.com/Reviews/Amazon-Revie...</td>\n",
       "    </tr>\n",
       "    <tr>\n",
       "      <th>22838</th>\n",
       "      <td>22839</td>\n",
       "      <td>amazon</td>\n",
       "      <td>Avenel, NJ</td>\n",
       "      <td>2015-01-06</td>\n",
       "      <td>Former Employee - Anonymous Employee</td>\n",
       "      <td>Its an ok job</td>\n",
       "      <td>The work hers were good ands a lot of the ther...</td>\n",
       "      <td>The only way to get promoted or extra training...</td>\n",
       "      <td>NaN</td>\n",
       "      <td>2.0</td>\n",
       "      <td>5.0</td>\n",
       "      <td>1.000000</td>\n",
       "      <td>3.0</td>\n",
       "      <td>4.0</td>\n",
       "      <td>3.0</td>\n",
       "      <td>0</td>\n",
       "      <td>https://www.glassdoor.com/Reviews/Amazon-Revie...</td>\n",
       "    </tr>\n",
       "  </tbody>\n",
       "</table>\n",
       "</div>"
      ],
      "text/plain": [
       "       Unnamed: 0 company         location      dates  \\\n",
       "33764       33765  amazon  Chennai (India) 2012-03-29   \n",
       "22841       22842  amazon   Charleston, TN 2014-12-30   \n",
       "22840       22841  amazon      Seattle, WA 2014-12-23   \n",
       "22839       22840  amazon       Avenel, NJ 2014-12-25   \n",
       "22838       22839  amazon       Avenel, NJ 2015-01-06   \n",
       "\n",
       "                                              job_title  \\\n",
       "33764              Former Employee - Anonymous Employee   \n",
       "22841                       Former Employee - Warehouse   \n",
       "22840  Current Employee - Software Development Engineer   \n",
       "22839             Current Employee - Anonymous Employee   \n",
       "22838              Former Employee - Anonymous Employee   \n",
       "\n",
       "                                                 summary  \\\n",
       "33764                                         Exp Review   \n",
       "22841  Great job for mindless zombies, or someone in ...   \n",
       "22840             Good place to work right out of school   \n",
       "22839                                           Good job   \n",
       "22838                                      Its an ok job   \n",
       "\n",
       "                                                    pros  \\\n",
       "33764  great place to work for women very comfortable...   \n",
       "22841  pay was only about $11.00 an hour, so absolute...   \n",
       "22840  You learn a lot in a short time period here, a...   \n",
       "22839                  Good pay and friendly environment   \n",
       "22838  The work hers were good ands a lot of the ther...   \n",
       "\n",
       "                                                    cons  \\\n",
       "33764  you should be self-motivated, in order to grow...   \n",
       "22841  Everything: long hours, horrible schedules, ve...   \n",
       "22840  Expectations of how much you should work seem ...   \n",
       "22839                   Long hard hours and short breaks   \n",
       "22838  The only way to get promoted or extra training...   \n",
       "\n",
       "                                          advice_to_mgmt  overall_ratings  \\\n",
       "33764                                                NaN              5.0   \n",
       "22841       Be nice, floor workers are tired of your BS.              2.0   \n",
       "22840  Train your dev managers better. I have yet to ...              4.0   \n",
       "22839                                            Nothing              4.0   \n",
       "22838                                                NaN              2.0   \n",
       "\n",
       "       work_balance_stars  culture_values_stars  career_opportunities_stars  \\\n",
       "33764                 4.5              3.784451                         3.5   \n",
       "22841                 1.0              1.000000                         1.0   \n",
       "22840                 3.0              5.000000                         4.0   \n",
       "22839                 2.0              5.000000                         5.0   \n",
       "22838                 5.0              1.000000                         3.0   \n",
       "\n",
       "       comp_benefit_stars  senior_management_stars  helpful_count  \\\n",
       "33764                 5.0                      2.5              0   \n",
       "22841                 2.0                      1.0              3   \n",
       "22840                 4.0                      4.0              0   \n",
       "22839                 4.0                      3.0              0   \n",
       "22838                 4.0                      3.0              0   \n",
       "\n",
       "                                                    link  \n",
       "33764  https://www.glassdoor.com/Reviews/Amazon-Revie...  \n",
       "22841  https://www.glassdoor.com/Reviews/Amazon-Revie...  \n",
       "22840  https://www.glassdoor.com/Reviews/Amazon-Revie...  \n",
       "22839  https://www.glassdoor.com/Reviews/Amazon-Revie...  \n",
       "22838  https://www.glassdoor.com/Reviews/Amazon-Revie...  "
      ]
     },
     "execution_count": 21,
     "metadata": {},
     "output_type": "execute_result"
    }
   ],
   "source": [
    "# Convert the dates column from object to datetime\n",
    "emp_df_sort['dates'] = pd.to_datetime(emp_df_sort['dates'], errors='coerce')\n",
    "emp_df_sort.head()"
   ]
  },
  {
   "cell_type": "markdown",
   "metadata": {},
   "source": [
    "At the end of our data wrangling process, the only variables that continue to have null values are summary and advice_to_mgmt but that can be ignored for our analysis. The ratings columns are the most important for exploration of the data so we will retain them in our dataframe and drop the columns that are not relevant for our initial analysis."
   ]
  },
  {
   "cell_type": "code",
   "execution_count": 22,
   "metadata": {},
   "outputs": [],
   "source": [
    "orig_emp_df = emp_df.copy(deep=True)\n",
    "emp_df = emp_df_sort.drop(columns='Unnamed: 0', axis=1)"
   ]
  },
  {
   "cell_type": "code",
   "execution_count": 23,
   "metadata": {},
   "outputs": [
    {
     "data": {
      "text/html": [
       "<div>\n",
       "<style scoped>\n",
       "    .dataframe tbody tr th:only-of-type {\n",
       "        vertical-align: middle;\n",
       "    }\n",
       "\n",
       "    .dataframe tbody tr th {\n",
       "        vertical-align: top;\n",
       "    }\n",
       "\n",
       "    .dataframe thead th {\n",
       "        text-align: right;\n",
       "    }\n",
       "</style>\n",
       "<table border=\"1\" class=\"dataframe\">\n",
       "  <thead>\n",
       "    <tr style=\"text-align: right;\">\n",
       "      <th></th>\n",
       "      <th>company</th>\n",
       "      <th>location</th>\n",
       "      <th>dates</th>\n",
       "      <th>overall_ratings</th>\n",
       "      <th>work_balance_stars</th>\n",
       "      <th>culture_values_stars</th>\n",
       "      <th>career_opportunities_stars</th>\n",
       "      <th>comp_benefit_stars</th>\n",
       "      <th>senior_management_stars</th>\n",
       "    </tr>\n",
       "  </thead>\n",
       "  <tbody>\n",
       "    <tr>\n",
       "      <th>33764</th>\n",
       "      <td>amazon</td>\n",
       "      <td>Chennai (India)</td>\n",
       "      <td>2012-03-29</td>\n",
       "      <td>5.0</td>\n",
       "      <td>4.5</td>\n",
       "      <td>3.784451</td>\n",
       "      <td>3.5</td>\n",
       "      <td>5.0</td>\n",
       "      <td>2.5</td>\n",
       "    </tr>\n",
       "    <tr>\n",
       "      <th>22841</th>\n",
       "      <td>amazon</td>\n",
       "      <td>Charleston, TN</td>\n",
       "      <td>2014-12-30</td>\n",
       "      <td>2.0</td>\n",
       "      <td>1.0</td>\n",
       "      <td>1.000000</td>\n",
       "      <td>1.0</td>\n",
       "      <td>2.0</td>\n",
       "      <td>1.0</td>\n",
       "    </tr>\n",
       "    <tr>\n",
       "      <th>22840</th>\n",
       "      <td>amazon</td>\n",
       "      <td>Seattle, WA</td>\n",
       "      <td>2014-12-23</td>\n",
       "      <td>4.0</td>\n",
       "      <td>3.0</td>\n",
       "      <td>5.000000</td>\n",
       "      <td>4.0</td>\n",
       "      <td>4.0</td>\n",
       "      <td>4.0</td>\n",
       "    </tr>\n",
       "    <tr>\n",
       "      <th>22839</th>\n",
       "      <td>amazon</td>\n",
       "      <td>Avenel, NJ</td>\n",
       "      <td>2014-12-25</td>\n",
       "      <td>4.0</td>\n",
       "      <td>2.0</td>\n",
       "      <td>5.000000</td>\n",
       "      <td>5.0</td>\n",
       "      <td>4.0</td>\n",
       "      <td>3.0</td>\n",
       "    </tr>\n",
       "    <tr>\n",
       "      <th>22838</th>\n",
       "      <td>amazon</td>\n",
       "      <td>Avenel, NJ</td>\n",
       "      <td>2015-01-06</td>\n",
       "      <td>2.0</td>\n",
       "      <td>5.0</td>\n",
       "      <td>1.000000</td>\n",
       "      <td>3.0</td>\n",
       "      <td>4.0</td>\n",
       "      <td>3.0</td>\n",
       "    </tr>\n",
       "  </tbody>\n",
       "</table>\n",
       "</div>"
      ],
      "text/plain": [
       "      company         location      dates  overall_ratings  \\\n",
       "33764  amazon  Chennai (India) 2012-03-29              5.0   \n",
       "22841  amazon   Charleston, TN 2014-12-30              2.0   \n",
       "22840  amazon      Seattle, WA 2014-12-23              4.0   \n",
       "22839  amazon       Avenel, NJ 2014-12-25              4.0   \n",
       "22838  amazon       Avenel, NJ 2015-01-06              2.0   \n",
       "\n",
       "       work_balance_stars  culture_values_stars  career_opportunities_stars  \\\n",
       "33764                 4.5              3.784451                         3.5   \n",
       "22841                 1.0              1.000000                         1.0   \n",
       "22840                 3.0              5.000000                         4.0   \n",
       "22839                 2.0              5.000000                         5.0   \n",
       "22838                 5.0              1.000000                         3.0   \n",
       "\n",
       "       comp_benefit_stars  senior_management_stars  \n",
       "33764                 5.0                      2.5  \n",
       "22841                 2.0                      1.0  \n",
       "22840                 4.0                      4.0  \n",
       "22839                 4.0                      3.0  \n",
       "22838                 4.0                      3.0  "
      ]
     },
     "execution_count": 23,
     "metadata": {},
     "output_type": "execute_result"
    }
   ],
   "source": [
    "ind_columns = [\"company\", \"location\", \"dates\", \"overall_ratings\", \"work_balance_stars\", \"culture_values_stars\", \"career_opportunities_stars\",\n",
    "               \"comp_benefit_stars\", \"senior_management_stars\"]\n",
    "#emp_df.set_index([\"company\", \"location\"], inplace=True, drop=False, verify_integrity=False)\n",
    "emp_df = emp_df.reindex(columns = ind_columns)\n",
    "emp_df.head()"
   ]
  },
  {
   "cell_type": "markdown",
   "metadata": {},
   "source": [
    "# Initial data exploration"
   ]
  },
  {
   "cell_type": "code",
   "execution_count": 24,
   "metadata": {},
   "outputs": [],
   "source": [
    "sns.set()"
   ]
  },
  {
   "cell_type": "markdown",
   "metadata": {},
   "source": [
    "Now let's start of initial exploration of the data.\n",
    "Let's count something interesting. For example, What is the count of reviews per company?"
   ]
  },
  {
   "cell_type": "code",
   "execution_count": 25,
   "metadata": {},
   "outputs": [
    {
     "data": {
      "text/plain": [
       "amazon       26430\n",
       "microsoft    17930\n",
       "apple        12950\n",
       "google        7819\n",
       "facebook      1590\n",
       "netflix        810\n",
       "Name: company, dtype: int64"
      ]
     },
     "execution_count": 25,
     "metadata": {},
     "output_type": "execute_result"
    }
   ],
   "source": [
    "emp_df['company'].value_counts()"
   ]
  },
  {
   "cell_type": "markdown",
   "metadata": {},
   "source": [
    "Let's try to plot this count on a bar chart."
   ]
  },
  {
   "cell_type": "code",
   "execution_count": 26,
   "metadata": {},
   "outputs": [
    {
     "data": {
      "text/plain": [
       "Text(0.5, 1.0, 'Count of reviews by company')"
      ]
     },
     "execution_count": 26,
     "metadata": {},
     "output_type": "execute_result"
    },
    {
     "data": {
      "image/png": "[encoded data removed]",
      "text/plain": [
       "<Figure size 432x288 with 1 Axes>"
      ]
     },
     "metadata": {},
     "output_type": "display_data"
    }
   ],
   "source": [
    "ax = sns.countplot(x=\"company\", data=emp_df)\n",
    "ax.set_xlabel(\"Company\")\n",
    "ax.set_ylabel(\"Review Count\")\n",
    "ax.set_title(\"Count of reviews by company\")"
   ]
  },
  {
   "cell_type": "markdown",
   "metadata": {},
   "source": [
    "The bar chart indicates that Amazon has the highest count of reviews, followed by Microsoft and Apple."
   ]
  },
  {
   "cell_type": "markdown",
   "metadata": {},
   "source": [
    "Let's plot the count of reviews by year on a bar chart."
   ]
  },
  {
   "cell_type": "code",
   "execution_count": 27,
   "metadata": {},
   "outputs": [],
   "source": [
    "emp_df['year'] = emp_df.dates.dt.to_period('Y')"
   ]
  },
  {
   "cell_type": "code",
   "execution_count": 28,
   "metadata": {},
   "outputs": [
    {
     "data": {
      "text/plain": [
       "2017    14075\n",
       "2018    13676\n",
       "2016    11490\n",
       "2015    10140\n",
       "2014     5941\n",
       "2013     3859\n",
       "2012     3210\n",
       "2011     1710\n",
       "2008     1365\n",
       "2010     1130\n",
       "2009      929\n",
       "Freq: A-DEC, Name: year, dtype: int64"
      ]
     },
     "execution_count": 28,
     "metadata": {},
     "output_type": "execute_result"
    }
   ],
   "source": [
    "emp_df['year'].value_counts()"
   ]
  },
  {
   "cell_type": "code",
   "execution_count": 29,
   "metadata": {},
   "outputs": [
    {
     "data": {
      "text/plain": [
       "Text(0, 0.5, 'Count')"
      ]
     },
     "execution_count": 29,
     "metadata": {},
     "output_type": "execute_result"
    },
    {
     "data": {
      "image/png": "[encoded data removed]",
      "text/plain": [
       "<Figure size 432x288 with 1 Axes>"
      ]
     },
     "metadata": {},
     "output_type": "display_data"
    }
   ],
   "source": [
    "ax = sns.barplot(x=emp_df.year.value_counts().index, y=emp_df.year.value_counts())\n",
    "ax.set_title(\"Count of reviews by the year\")\n",
    "ax.set_xlabel(\"Year\")\n",
    "ax.set_ylabel(\"Count\")"
   ]
  },
  {
   "cell_type": "markdown",
   "metadata": {},
   "source": [
    "Let's try to plot the overall ratings for all companies on a boxplot and determine the distribution"
   ]
  },
  {
   "cell_type": "code",
   "execution_count": 30,
   "metadata": {},
   "outputs": [
    {
     "data": {
      "image/png": "[encoded data removed]",
      "text/plain": [
       "<Figure size 432x288 with 1 Axes>"
      ]
     },
     "metadata": {},
     "output_type": "display_data"
    }
   ],
   "source": [
    "ax = sns.boxplot(x=\"company\", y=\"overall_ratings\", data=emp_df).set_title(\"Distribution of overall ratings for each company\")"
   ]
  },
  {
   "cell_type": "markdown",
   "metadata": {},
   "source": [
    "How about finding the distribution of culture_values_stars for each company using a boxplot?"
   ]
  },
  {
   "cell_type": "markdown",
   "metadata": {},
   "source": [
    "Below is a violin plot that shows the distribution of culture values ratings across several layers of company"
   ]
  },
  {
   "cell_type": "code",
   "execution_count": 34,
   "metadata": {},
   "outputs": [
    {
     "data": {
      "text/plain": [
       "Text(0.5, 1.0, 'Distribution of culture values ratings for each company')"
      ]
     },
     "execution_count": 34,
     "metadata": {},
     "output_type": "execute_result"
    },
    {
     "data": {
      "image/png": "[encoded data removed]",
      "text/plain": [
       "<Figure size 432x288 with 1 Axes>"
      ]
     },
     "metadata": {},
     "output_type": "display_data"
    }
   ],
   "source": [
    "# Set theme\n",
    "sns.set_style('whitegrid')\n",
    " \n",
    "# Violin plot\n",
    "ax = sns.violinplot(x='company', y='culture_values_stars', data=emp_df)\n",
    "ax.set_title(\"Distribution of culture values ratings for each company\")"
   ]
  },
  {
   "cell_type": "markdown",
   "metadata": {},
   "source": [
    "Now we will draw a lmplot which is a 2D scatterplot with an optional overlaid regression line.\n",
    "The first lmplot shows the relationship between work_balance_stars and overall_ratings.\n",
    "The second lmplot shows the relationship between comp_benefit_stars and overall_ratings."
   ]
  },
  {
   "cell_type": "code",
   "execution_count": 36,
   "metadata": {},
   "outputs": [
    {
     "data": {
      "image/png": "[encoded data removed]",
      "text/plain": [
       "<Figure size 360x360 with 1 Axes>"
      ]
     },
     "metadata": {},
     "output_type": "display_data"
    }
   ],
   "source": [
    "sns.set(style=\"ticks\")\n",
    "ax = sns.lmplot(x=\"work_balance_stars\", y=\"overall_ratings\", data=emp_df)"
   ]
  },
  {
   "cell_type": "code",
   "execution_count": 37,
   "metadata": {},
   "outputs": [
    {
     "data": {
      "image/png": "[encoded data removed]",
      "text/plain": [
       "<Figure size 360x360 with 1 Axes>"
      ]
     },
     "metadata": {},
     "output_type": "display_data"
    }
   ],
   "source": [
    "ax = sns.lmplot(x=\"comp_benefit_stars\", y=\"overall_ratings\", data=emp_df)"
   ]
  },
  {
   "cell_type": "markdown",
   "metadata": {},
   "source": [
    "From the above two charts, we can draw a conclusion that work_balance_stars as well as comp_benefit_stars both have a positive relationship with overall_ratings."
   ]
  },
  {
   "cell_type": "markdown",
   "metadata": {},
   "source": [
    "Now let's try to plot a point plot that will show the mean overall ratings for each company"
   ]
  },
  {
   "cell_type": "code",
   "execution_count": 38,
   "metadata": {},
   "outputs": [
    {
     "data": {
      "text/plain": [
       "Text(0.5, 1.0, 'Mean overall ratings')"
      ]
     },
     "execution_count": 38,
     "metadata": {},
     "output_type": "execute_result"
    },
    {
     "data": {
      "image/png": "[encoded data removed]",
      "text/plain": [
       "<Figure size 432x288 with 1 Axes>"
      ]
     },
     "metadata": {},
     "output_type": "display_data"
    }
   ],
   "source": [
    "sns.set(style=\"darkgrid\")\n",
    "ax = sns.pointplot(x=\"company\", y=\"overall_ratings\", data=emp_df)\n",
    "ax.set_title(\"Mean overall ratings\")"
   ]
  },
  {
   "cell_type": "markdown",
   "metadata": {},
   "source": [
    "From the above chart it is evident that Facebook has the highest average overall ratings whereas Netflix has the lowest."
   ]
  },
  {
   "cell_type": "markdown",
   "metadata": {},
   "source": [
    "The final chart is a pairplot which shows pairwise relationships betweem career_opportunities_stars and senior_management_stars"
   ]
  },
  {
   "cell_type": "code",
   "execution_count": 40,
   "metadata": {},
   "outputs": [
    {
     "data": {
      "image/png": "[encoded data removed]",
      "text/plain": [
       "<Figure size 444.475x360 with 6 Axes>"
      ]
     },
     "metadata": {},
     "output_type": "display_data"
    }
   ],
   "source": [
    "ax = sns.pairplot(emp_df, vars=[\"career_opportunities_stars\", \"senior_management_stars\"], hue=\"company\", palette=\"husl\")"
   ]
  },
  {
   "cell_type": "markdown",
   "metadata": {},
   "source": [
    "We could use this data to answer a lot of other questions such as:\n",
    "1. Do current employees give more reviews than the ex-employees?\n",
    "2. Is there a trend between the number of reviews and dates?\n",
    "3. Were there a high number of reviews on a particular day? \n",
    "4. Do current employees give more reviews than ex-employees?\n",
    "5. What is the average of overall ratings? Which companies have consistently continued to get ratings above this average? \n",
    "6. How do the ratings vary for each company by individual locations?"
   ]
  },
  {
   "cell_type": "code",
   "execution_count": null,
   "metadata": {},
   "outputs": [],
   "source": []
  }
 ],
 "metadata": {
  "kernelspec": {
   "display_name": "Python 3",
   "language": "python",
   "name": "python3"
  },
  "language_info": {
   "codemirror_mode": {
    "name": "ipython",
    "version": 3
   },
   "file_extension": ".py",
   "mimetype": "text/x-python",
   "name": "python",
   "nbconvert_exporter": "python",
   "pygments_lexer": "ipython3",
   "version": "3.7.1"
  }
 },
 "nbformat": 4,
 "nbformat_minor": 2
}
