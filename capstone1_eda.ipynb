{
 "cells": [
  {
   "cell_type": "markdown",
   "metadata": {},
   "source": [
    "#                   Capstone Project 1: Employer Ratings Analysis"
   ]
  },
  {
   "cell_type": "markdown",
   "metadata": {},
   "source": [
    "# Exploratory Data Analysis\n",
    "Now it's time to make some inferences from our data."
   ]
  },
  {
   "cell_type": "code",
   "execution_count": 1,
   "metadata": {},
   "outputs": [],
   "source": [
    "# Import packages and read the cleaned csv file into a pandas DataFrame.\n",
    "import numpy as np\n",
    "import pandas as pd\n",
    "from matplotlib import pyplot as plt\n",
    "%matplotlib inline\n",
    "import seaborn as sns\n",
    "from scipy import stats\n",
    "emp_df = pd.read_csv('employee_cleaned.csv')"
   ]
  },
  {
   "cell_type": "code",
   "execution_count": 2,
   "metadata": {},
   "outputs": [
    {
     "name": "stdout",
     "output_type": "stream",
     "text": [
      "<class 'pandas.core.frame.DataFrame'>\n",
      "RangeIndex: 67529 entries, 0 to 67528\n",
      "Data columns (total 18 columns):\n",
      "Unnamed: 0                    67529 non-null int64\n",
      "Unnamed: 0.1                  67529 non-null int64\n",
      "company                       67529 non-null object\n",
      "location                      42444 non-null object\n",
      "dates                         67525 non-null object\n",
      "job_title                     67529 non-null object\n",
      "summary                       67393 non-null object\n",
      "pros                          67529 non-null object\n",
      "cons                          67528 non-null object\n",
      "advice_to_mgmt                37693 non-null object\n",
      "overall_ratings               67529 non-null float64\n",
      "work_balance_stars            60369 non-null float64\n",
      "culture_values_stars          53983 non-null float64\n",
      "career_opportunities_stars    60421 non-null float64\n",
      "comp_benefit_stars            60368 non-null float64\n",
      "senior_management_stars       59754 non-null float64\n",
      "helpful_count                 67529 non-null int64\n",
      "link                          67529 non-null object\n",
      "dtypes: float64(6), int64(3), object(9)\n",
      "memory usage: 9.3+ MB\n"
     ]
    }
   ],
   "source": [
    "emp_df.info()"
   ]
  },
  {
   "cell_type": "code",
   "execution_count": 3,
   "metadata": {},
   "outputs": [
    {
     "data": {
      "text/html": [
       "<div>\n",
       "<style scoped>\n",
       "    .dataframe tbody tr th:only-of-type {\n",
       "        vertical-align: middle;\n",
       "    }\n",
       "\n",
       "    .dataframe tbody tr th {\n",
       "        vertical-align: top;\n",
       "    }\n",
       "\n",
       "    .dataframe thead th {\n",
       "        text-align: right;\n",
       "    }\n",
       "</style>\n",
       "<table border=\"1\" class=\"dataframe\">\n",
       "  <thead>\n",
       "    <tr style=\"text-align: right;\">\n",
       "      <th></th>\n",
       "      <th>Unnamed: 0</th>\n",
       "      <th>Unnamed: 0.1</th>\n",
       "      <th>overall_ratings</th>\n",
       "      <th>work_balance_stars</th>\n",
       "      <th>culture_values_stars</th>\n",
       "      <th>career_opportunities_stars</th>\n",
       "      <th>comp_benefit_stars</th>\n",
       "      <th>senior_management_stars</th>\n",
       "      <th>helpful_count</th>\n",
       "    </tr>\n",
       "  </thead>\n",
       "  <tbody>\n",
       "    <tr>\n",
       "      <th>count</th>\n",
       "      <td>67529.000000</td>\n",
       "      <td>67529.000000</td>\n",
       "      <td>67529.000000</td>\n",
       "      <td>60369.000000</td>\n",
       "      <td>53983.000000</td>\n",
       "      <td>60421.000000</td>\n",
       "      <td>60368.000000</td>\n",
       "      <td>59754.000000</td>\n",
       "      <td>67529.000000</td>\n",
       "    </tr>\n",
       "    <tr>\n",
       "      <th>mean</th>\n",
       "      <td>33764.000000</td>\n",
       "      <td>33765.000000</td>\n",
       "      <td>3.826075</td>\n",
       "      <td>3.373254</td>\n",
       "      <td>3.784451</td>\n",
       "      <td>3.634035</td>\n",
       "      <td>3.942503</td>\n",
       "      <td>3.322522</td>\n",
       "      <td>1.268211</td>\n",
       "    </tr>\n",
       "    <tr>\n",
       "      <th>std</th>\n",
       "      <td>19494.087501</td>\n",
       "      <td>19494.087501</td>\n",
       "      <td>1.154989</td>\n",
       "      <td>1.299901</td>\n",
       "      <td>1.296220</td>\n",
       "      <td>1.225787</td>\n",
       "      <td>1.038597</td>\n",
       "      <td>1.312449</td>\n",
       "      <td>16.085852</td>\n",
       "    </tr>\n",
       "    <tr>\n",
       "      <th>min</th>\n",
       "      <td>0.000000</td>\n",
       "      <td>1.000000</td>\n",
       "      <td>1.000000</td>\n",
       "      <td>1.000000</td>\n",
       "      <td>1.000000</td>\n",
       "      <td>1.000000</td>\n",
       "      <td>1.000000</td>\n",
       "      <td>1.000000</td>\n",
       "      <td>0.000000</td>\n",
       "    </tr>\n",
       "    <tr>\n",
       "      <th>25%</th>\n",
       "      <td>16882.000000</td>\n",
       "      <td>16883.000000</td>\n",
       "      <td>3.000000</td>\n",
       "      <td>2.000000</td>\n",
       "      <td>3.000000</td>\n",
       "      <td>3.000000</td>\n",
       "      <td>3.000000</td>\n",
       "      <td>2.000000</td>\n",
       "      <td>0.000000</td>\n",
       "    </tr>\n",
       "    <tr>\n",
       "      <th>50%</th>\n",
       "      <td>33764.000000</td>\n",
       "      <td>33765.000000</td>\n",
       "      <td>4.000000</td>\n",
       "      <td>3.500000</td>\n",
       "      <td>4.000000</td>\n",
       "      <td>4.000000</td>\n",
       "      <td>4.000000</td>\n",
       "      <td>3.000000</td>\n",
       "      <td>0.000000</td>\n",
       "    </tr>\n",
       "    <tr>\n",
       "      <th>75%</th>\n",
       "      <td>50646.000000</td>\n",
       "      <td>50647.000000</td>\n",
       "      <td>5.000000</td>\n",
       "      <td>4.000000</td>\n",
       "      <td>5.000000</td>\n",
       "      <td>5.000000</td>\n",
       "      <td>5.000000</td>\n",
       "      <td>4.000000</td>\n",
       "      <td>1.000000</td>\n",
       "    </tr>\n",
       "    <tr>\n",
       "      <th>max</th>\n",
       "      <td>67528.000000</td>\n",
       "      <td>67529.000000</td>\n",
       "      <td>5.000000</td>\n",
       "      <td>5.000000</td>\n",
       "      <td>5.000000</td>\n",
       "      <td>5.000000</td>\n",
       "      <td>5.000000</td>\n",
       "      <td>5.000000</td>\n",
       "      <td>2094.000000</td>\n",
       "    </tr>\n",
       "  </tbody>\n",
       "</table>\n",
       "</div>"
      ],
      "text/plain": [
       "         Unnamed: 0  Unnamed: 0.1  overall_ratings  work_balance_stars  \\\n",
       "count  67529.000000  67529.000000     67529.000000        60369.000000   \n",
       "mean   33764.000000  33765.000000         3.826075            3.373254   \n",
       "std    19494.087501  19494.087501         1.154989            1.299901   \n",
       "min        0.000000      1.000000         1.000000            1.000000   \n",
       "25%    16882.000000  16883.000000         3.000000            2.000000   \n",
       "50%    33764.000000  33765.000000         4.000000            3.500000   \n",
       "75%    50646.000000  50647.000000         5.000000            4.000000   \n",
       "max    67528.000000  67529.000000         5.000000            5.000000   \n",
       "\n",
       "       culture_values_stars  career_opportunities_stars  comp_benefit_stars  \\\n",
       "count          53983.000000                60421.000000        60368.000000   \n",
       "mean               3.784451                    3.634035            3.942503   \n",
       "std                1.296220                    1.225787            1.038597   \n",
       "min                1.000000                    1.000000            1.000000   \n",
       "25%                3.000000                    3.000000            3.000000   \n",
       "50%                4.000000                    4.000000            4.000000   \n",
       "75%                5.000000                    5.000000            5.000000   \n",
       "max                5.000000                    5.000000            5.000000   \n",
       "\n",
       "       senior_management_stars  helpful_count  \n",
       "count             59754.000000   67529.000000  \n",
       "mean                  3.322522       1.268211  \n",
       "std                   1.312449      16.085852  \n",
       "min                   1.000000       0.000000  \n",
       "25%                   2.000000       0.000000  \n",
       "50%                   3.000000       0.000000  \n",
       "75%                   4.000000       1.000000  \n",
       "max                   5.000000    2094.000000  "
      ]
     },
     "execution_count": 3,
     "metadata": {},
     "output_type": "execute_result"
    }
   ],
   "source": [
    "emp_df['dates'] = pd.to_datetime(emp_df['dates'], errors='coerce')\n",
    "emp_df['year'] = emp_df.dates.dt.to_period('Y')\n",
    "emp_df.describe()"
   ]
  },
  {
   "cell_type": "code",
   "execution_count": 4,
   "metadata": {},
   "outputs": [
    {
     "data": {
      "text/html": [
       "<div>\n",
       "<style scoped>\n",
       "    .dataframe tbody tr th:only-of-type {\n",
       "        vertical-align: middle;\n",
       "    }\n",
       "\n",
       "    .dataframe tbody tr th {\n",
       "        vertical-align: top;\n",
       "    }\n",
       "\n",
       "    .dataframe thead th {\n",
       "        text-align: right;\n",
       "    }\n",
       "</style>\n",
       "<table border=\"1\" class=\"dataframe\">\n",
       "  <thead>\n",
       "    <tr style=\"text-align: right;\">\n",
       "      <th></th>\n",
       "      <th>Unnamed: 0</th>\n",
       "      <th>Unnamed: 0.1</th>\n",
       "      <th>company</th>\n",
       "      <th>location</th>\n",
       "      <th>dates</th>\n",
       "      <th>job_title</th>\n",
       "      <th>summary</th>\n",
       "      <th>pros</th>\n",
       "      <th>cons</th>\n",
       "      <th>advice_to_mgmt</th>\n",
       "      <th>overall_ratings</th>\n",
       "      <th>work_balance_stars</th>\n",
       "      <th>culture_values_stars</th>\n",
       "      <th>career_opportunities_stars</th>\n",
       "      <th>comp_benefit_stars</th>\n",
       "      <th>senior_management_stars</th>\n",
       "      <th>helpful_count</th>\n",
       "      <th>link</th>\n",
       "      <th>year</th>\n",
       "    </tr>\n",
       "  </thead>\n",
       "  <tbody>\n",
       "    <tr>\n",
       "      <th>0</th>\n",
       "      <td>33764</td>\n",
       "      <td>33765</td>\n",
       "      <td>amazon</td>\n",
       "      <td>Chennai (India)</td>\n",
       "      <td>2012-03-29</td>\n",
       "      <td>Former Employee - Anonymous Employee</td>\n",
       "      <td>Exp Review</td>\n",
       "      <td>great place to work for women very comfortable...</td>\n",
       "      <td>you should be self-motivated, in order to grow...</td>\n",
       "      <td>NaN</td>\n",
       "      <td>5.0</td>\n",
       "      <td>4.5</td>\n",
       "      <td>NaN</td>\n",
       "      <td>3.5</td>\n",
       "      <td>5.0</td>\n",
       "      <td>2.5</td>\n",
       "      <td>0</td>\n",
       "      <td>https://www.glassdoor.com/Reviews/Amazon-Revie...</td>\n",
       "      <td>2012</td>\n",
       "    </tr>\n",
       "    <tr>\n",
       "      <th>1</th>\n",
       "      <td>22841</td>\n",
       "      <td>22842</td>\n",
       "      <td>amazon</td>\n",
       "      <td>Charleston, TN</td>\n",
       "      <td>2014-12-30</td>\n",
       "      <td>Former Employee - Warehouse</td>\n",
       "      <td>Great job for mindless zombies, or someone in ...</td>\n",
       "      <td>pay was only about $11.00 an hour, so absolute...</td>\n",
       "      <td>Everything: long hours, horrible schedules, ve...</td>\n",
       "      <td>Be nice, floor workers are tired of your BS.</td>\n",
       "      <td>2.0</td>\n",
       "      <td>1.0</td>\n",
       "      <td>1.0</td>\n",
       "      <td>1.0</td>\n",
       "      <td>2.0</td>\n",
       "      <td>1.0</td>\n",
       "      <td>3</td>\n",
       "      <td>https://www.glassdoor.com/Reviews/Amazon-Revie...</td>\n",
       "      <td>2014</td>\n",
       "    </tr>\n",
       "  </tbody>\n",
       "</table>\n",
       "</div>"
      ],
      "text/plain": [
       "   Unnamed: 0  Unnamed: 0.1 company         location      dates  \\\n",
       "0       33764         33765  amazon  Chennai (India) 2012-03-29   \n",
       "1       22841         22842  amazon   Charleston, TN 2014-12-30   \n",
       "\n",
       "                              job_title  \\\n",
       "0  Former Employee - Anonymous Employee   \n",
       "1           Former Employee - Warehouse   \n",
       "\n",
       "                                             summary  \\\n",
       "0                                         Exp Review   \n",
       "1  Great job for mindless zombies, or someone in ...   \n",
       "\n",
       "                                                pros  \\\n",
       "0  great place to work for women very comfortable...   \n",
       "1  pay was only about $11.00 an hour, so absolute...   \n",
       "\n",
       "                                                cons  \\\n",
       "0  you should be self-motivated, in order to grow...   \n",
       "1  Everything: long hours, horrible schedules, ve...   \n",
       "\n",
       "                                 advice_to_mgmt  overall_ratings  \\\n",
       "0                                           NaN              5.0   \n",
       "1  Be nice, floor workers are tired of your BS.              2.0   \n",
       "\n",
       "   work_balance_stars  culture_values_stars  career_opportunities_stars  \\\n",
       "0                 4.5                   NaN                         3.5   \n",
       "1                 1.0                   1.0                         1.0   \n",
       "\n",
       "   comp_benefit_stars  senior_management_stars  helpful_count  \\\n",
       "0                 5.0                      2.5              0   \n",
       "1                 2.0                      1.0              3   \n",
       "\n",
       "                                                link year  \n",
       "0  https://www.glassdoor.com/Reviews/Amazon-Revie... 2012  \n",
       "1  https://www.glassdoor.com/Reviews/Amazon-Revie... 2014  "
      ]
     },
     "execution_count": 4,
     "metadata": {},
     "output_type": "execute_result"
    }
   ],
   "source": [
    "emp_df.head(2)"
   ]
  },
  {
   "cell_type": "code",
   "execution_count": 5,
   "metadata": {},
   "outputs": [
    {
     "data": {
      "text/plain": [
       "array([5., 2., 4., 3., 1.])"
      ]
     },
     "execution_count": 5,
     "metadata": {},
     "output_type": "execute_result"
    }
   ],
   "source": [
    "emp_df['overall_ratings'].unique()"
   ]
  },
  {
   "cell_type": "markdown",
   "metadata": {},
   "source": [
    "Next, we will check for missing values in all the columns."
   ]
  },
  {
   "cell_type": "code",
   "execution_count": 6,
   "metadata": {},
   "outputs": [
    {
     "data": {
      "text/plain": [
       "Unnamed: 0                        0\n",
       "Unnamed: 0.1                      0\n",
       "company                           0\n",
       "location                      25085\n",
       "dates                             4\n",
       "job_title                         0\n",
       "summary                         136\n",
       "pros                              0\n",
       "cons                              1\n",
       "advice_to_mgmt                29836\n",
       "overall_ratings                   0\n",
       "work_balance_stars             7160\n",
       "culture_values_stars          13546\n",
       "career_opportunities_stars     7108\n",
       "comp_benefit_stars             7161\n",
       "senior_management_stars        7775\n",
       "helpful_count                     0\n",
       "link                              0\n",
       "year                              4\n",
       "dtype: int64"
      ]
     },
     "execution_count": 6,
     "metadata": {},
     "output_type": "execute_result"
    }
   ],
   "source": [
    "emp_df.isnull().sum()"
   ]
  },
  {
   "cell_type": "code",
   "execution_count": 7,
   "metadata": {},
   "outputs": [
    {
     "data": {
      "text/plain": [
       "array(['Chennai (India)', 'Charleston, TN', 'Seattle, WA', ...,\n",
       "       'Norcross, GA', 'Sartrouville (France)', 'Gilroy, CA'],\n",
       "      dtype=object)"
      ]
     },
     "execution_count": 7,
     "metadata": {},
     "output_type": "execute_result"
    }
   ],
   "source": [
    "emp_df['location'].unique()"
   ]
  },
  {
   "cell_type": "code",
   "execution_count": 8,
   "metadata": {},
   "outputs": [
    {
     "data": {
      "image/png": "[encoded data removed]",
      "text/plain": [
       "<Figure size 720x360 with 1 Axes>"
      ]
     },
     "metadata": {
      "needs_background": "light"
     },
     "output_type": "display_data"
    }
   ],
   "source": [
    "location_count = emp_df['location'].value_counts()\n",
    "location_count = location_count[:10,]\n",
    "plt.figure(figsize=(10,5))\n",
    "ax = sns.barplot(location_count.index, location_count.values, alpha=0.8)\n",
    "ax = ax.set_xticklabels(ax.get_xticklabels(), rotation=40, ha=\"right\")\n",
    "ax = plt.tight_layout()\n",
    "ax = plt.title('Top 10 locations by review counts', fontsize=22)\n",
    "ax = plt.ylabel('Number of Reviews', fontsize=18)\n",
    "ax = plt.xlabel('Location', fontsize=18)\n",
    "plt.show()"
   ]
  },
  {
   "cell_type": "code",
   "execution_count": 9,
   "metadata": {},
   "outputs": [
    {
     "name": "stdout",
     "output_type": "stream",
     "text": [
      "Missing location on 25085 records\n"
     ]
    }
   ],
   "source": [
    "print('Missing location on', emp_df['location'].isnull().sum(), 'records')"
   ]
  },
  {
   "cell_type": "code",
   "execution_count": 10,
   "metadata": {},
   "outputs": [
    {
     "name": "stdout",
     "output_type": "stream",
     "text": [
      "20.05952997971242 % missing values for culture_values_stars\n"
     ]
    }
   ],
   "source": [
    "print(emp_df['culture_values_stars'].isnull().sum()/emp_df.shape[0]*100, '% missing values for culture_values_stars')"
   ]
  },
  {
   "cell_type": "markdown",
   "metadata": {},
   "source": [
    "More than 35% of the rows have missing location and about 20% have missing values in culture_values_stars. Therefore we will not be using these two columns for any of our analysis. So let's go ahead and drop the unnecessary columns from the dataframe and make a copy of it for future use."
   ]
  },
  {
   "cell_type": "code",
   "execution_count": 11,
   "metadata": {},
   "outputs": [],
   "source": [
    "emp_df.drop(['Unnamed: 0','Unnamed: 0.1','location','culture_values_stars','link','helpful_count'],\n",
    "          axis='columns',\n",
    "          inplace=True)"
   ]
  },
  {
   "cell_type": "code",
   "execution_count": 12,
   "metadata": {},
   "outputs": [
    {
     "data": {
      "text/html": [
       "<div>\n",
       "<style scoped>\n",
       "    .dataframe tbody tr th:only-of-type {\n",
       "        vertical-align: middle;\n",
       "    }\n",
       "\n",
       "    .dataframe tbody tr th {\n",
       "        vertical-align: top;\n",
       "    }\n",
       "\n",
       "    .dataframe thead th {\n",
       "        text-align: right;\n",
       "    }\n",
       "</style>\n",
       "<table border=\"1\" class=\"dataframe\">\n",
       "  <thead>\n",
       "    <tr style=\"text-align: right;\">\n",
       "      <th></th>\n",
       "      <th>company</th>\n",
       "      <th>dates</th>\n",
       "      <th>job_title</th>\n",
       "      <th>summary</th>\n",
       "      <th>pros</th>\n",
       "      <th>cons</th>\n",
       "      <th>advice_to_mgmt</th>\n",
       "      <th>overall_ratings</th>\n",
       "      <th>work_balance_stars</th>\n",
       "      <th>career_opportunities_stars</th>\n",
       "      <th>comp_benefit_stars</th>\n",
       "      <th>senior_management_stars</th>\n",
       "      <th>year</th>\n",
       "    </tr>\n",
       "  </thead>\n",
       "  <tbody>\n",
       "    <tr>\n",
       "      <th>0</th>\n",
       "      <td>amazon</td>\n",
       "      <td>2012-03-29</td>\n",
       "      <td>Former Employee - Anonymous Employee</td>\n",
       "      <td>Exp Review</td>\n",
       "      <td>great place to work for women very comfortable...</td>\n",
       "      <td>you should be self-motivated, in order to grow...</td>\n",
       "      <td>NaN</td>\n",
       "      <td>5.0</td>\n",
       "      <td>4.5</td>\n",
       "      <td>3.5</td>\n",
       "      <td>5.0</td>\n",
       "      <td>2.5</td>\n",
       "      <td>2012</td>\n",
       "    </tr>\n",
       "    <tr>\n",
       "      <th>1</th>\n",
       "      <td>amazon</td>\n",
       "      <td>2014-12-30</td>\n",
       "      <td>Former Employee - Warehouse</td>\n",
       "      <td>Great job for mindless zombies, or someone in ...</td>\n",
       "      <td>pay was only about $11.00 an hour, so absolute...</td>\n",
       "      <td>Everything: long hours, horrible schedules, ve...</td>\n",
       "      <td>Be nice, floor workers are tired of your BS.</td>\n",
       "      <td>2.0</td>\n",
       "      <td>1.0</td>\n",
       "      <td>1.0</td>\n",
       "      <td>2.0</td>\n",
       "      <td>1.0</td>\n",
       "      <td>2014</td>\n",
       "    </tr>\n",
       "    <tr>\n",
       "      <th>2</th>\n",
       "      <td>amazon</td>\n",
       "      <td>2014-12-23</td>\n",
       "      <td>Current Employee - Software Development Engineer</td>\n",
       "      <td>Good place to work right out of school</td>\n",
       "      <td>You learn a lot in a short time period here, a...</td>\n",
       "      <td>Expectations of how much you should work seem ...</td>\n",
       "      <td>Train your dev managers better. I have yet to ...</td>\n",
       "      <td>4.0</td>\n",
       "      <td>3.0</td>\n",
       "      <td>4.0</td>\n",
       "      <td>4.0</td>\n",
       "      <td>4.0</td>\n",
       "      <td>2014</td>\n",
       "    </tr>\n",
       "    <tr>\n",
       "      <th>3</th>\n",
       "      <td>amazon</td>\n",
       "      <td>2014-12-25</td>\n",
       "      <td>Current Employee - Anonymous Employee</td>\n",
       "      <td>Good job</td>\n",
       "      <td>Good pay and friendly environment</td>\n",
       "      <td>Long hard hours and short breaks</td>\n",
       "      <td>Nothing</td>\n",
       "      <td>4.0</td>\n",
       "      <td>2.0</td>\n",
       "      <td>5.0</td>\n",
       "      <td>4.0</td>\n",
       "      <td>3.0</td>\n",
       "      <td>2014</td>\n",
       "    </tr>\n",
       "    <tr>\n",
       "      <th>4</th>\n",
       "      <td>amazon</td>\n",
       "      <td>2015-01-06</td>\n",
       "      <td>Former Employee - Anonymous Employee</td>\n",
       "      <td>Its an ok job</td>\n",
       "      <td>The work hers were good ands a lot of the ther...</td>\n",
       "      <td>The only way to get promoted or extra training...</td>\n",
       "      <td>NaN</td>\n",
       "      <td>2.0</td>\n",
       "      <td>5.0</td>\n",
       "      <td>3.0</td>\n",
       "      <td>4.0</td>\n",
       "      <td>3.0</td>\n",
       "      <td>2015</td>\n",
       "    </tr>\n",
       "  </tbody>\n",
       "</table>\n",
       "</div>"
      ],
      "text/plain": [
       "  company      dates                                         job_title  \\\n",
       "0  amazon 2012-03-29              Former Employee - Anonymous Employee   \n",
       "1  amazon 2014-12-30                       Former Employee - Warehouse   \n",
       "2  amazon 2014-12-23  Current Employee - Software Development Engineer   \n",
       "3  amazon 2014-12-25             Current Employee - Anonymous Employee   \n",
       "4  amazon 2015-01-06              Former Employee - Anonymous Employee   \n",
       "\n",
       "                                             summary  \\\n",
       "0                                         Exp Review   \n",
       "1  Great job for mindless zombies, or someone in ...   \n",
       "2             Good place to work right out of school   \n",
       "3                                           Good job   \n",
       "4                                      Its an ok job   \n",
       "\n",
       "                                                pros  \\\n",
       "0  great place to work for women very comfortable...   \n",
       "1  pay was only about $11.00 an hour, so absolute...   \n",
       "2  You learn a lot in a short time period here, a...   \n",
       "3                  Good pay and friendly environment   \n",
       "4  The work hers were good ands a lot of the ther...   \n",
       "\n",
       "                                                cons  \\\n",
       "0  you should be self-motivated, in order to grow...   \n",
       "1  Everything: long hours, horrible schedules, ve...   \n",
       "2  Expectations of how much you should work seem ...   \n",
       "3                   Long hard hours and short breaks   \n",
       "4  The only way to get promoted or extra training...   \n",
       "\n",
       "                                      advice_to_mgmt  overall_ratings  \\\n",
       "0                                                NaN              5.0   \n",
       "1       Be nice, floor workers are tired of your BS.              2.0   \n",
       "2  Train your dev managers better. I have yet to ...              4.0   \n",
       "3                                            Nothing              4.0   \n",
       "4                                                NaN              2.0   \n",
       "\n",
       "   work_balance_stars  career_opportunities_stars  comp_benefit_stars  \\\n",
       "0                 4.5                         3.5                 5.0   \n",
       "1                 1.0                         1.0                 2.0   \n",
       "2                 3.0                         4.0                 4.0   \n",
       "3                 2.0                         5.0                 4.0   \n",
       "4                 5.0                         3.0                 4.0   \n",
       "\n",
       "   senior_management_stars year  \n",
       "0                      2.5 2012  \n",
       "1                      1.0 2014  \n",
       "2                      4.0 2014  \n",
       "3                      3.0 2014  \n",
       "4                      3.0 2015  "
      ]
     },
     "execution_count": 12,
     "metadata": {},
     "output_type": "execute_result"
    }
   ],
   "source": [
    "copy_emp_df = emp_df\n",
    "copy_emp_df.head()"
   ]
  },
  {
   "cell_type": "code",
   "execution_count": 13,
   "metadata": {},
   "outputs": [
    {
     "data": {
      "text/html": [
       "<div>\n",
       "<style scoped>\n",
       "    .dataframe tbody tr th:only-of-type {\n",
       "        vertical-align: middle;\n",
       "    }\n",
       "\n",
       "    .dataframe tbody tr th {\n",
       "        vertical-align: top;\n",
       "    }\n",
       "\n",
       "    .dataframe thead th {\n",
       "        text-align: right;\n",
       "    }\n",
       "</style>\n",
       "<table border=\"1\" class=\"dataframe\">\n",
       "  <thead>\n",
       "    <tr style=\"text-align: right;\">\n",
       "      <th></th>\n",
       "      <th>company</th>\n",
       "      <th>dates</th>\n",
       "      <th>overall_ratings</th>\n",
       "      <th>work_balance_stars</th>\n",
       "      <th>career_opportunities_stars</th>\n",
       "      <th>comp_benefit_stars</th>\n",
       "      <th>senior_management_stars</th>\n",
       "      <th>year</th>\n",
       "    </tr>\n",
       "  </thead>\n",
       "  <tbody>\n",
       "    <tr>\n",
       "      <th>0</th>\n",
       "      <td>amazon</td>\n",
       "      <td>2012-03-29</td>\n",
       "      <td>5.0</td>\n",
       "      <td>4.5</td>\n",
       "      <td>3.5</td>\n",
       "      <td>5.0</td>\n",
       "      <td>2.5</td>\n",
       "      <td>2012</td>\n",
       "    </tr>\n",
       "    <tr>\n",
       "      <th>1</th>\n",
       "      <td>amazon</td>\n",
       "      <td>2014-12-30</td>\n",
       "      <td>2.0</td>\n",
       "      <td>1.0</td>\n",
       "      <td>1.0</td>\n",
       "      <td>2.0</td>\n",
       "      <td>1.0</td>\n",
       "      <td>2014</td>\n",
       "    </tr>\n",
       "  </tbody>\n",
       "</table>\n",
       "</div>"
      ],
      "text/plain": [
       "  company      dates  overall_ratings  work_balance_stars  \\\n",
       "0  amazon 2012-03-29              5.0                 4.5   \n",
       "1  amazon 2014-12-30              2.0                 1.0   \n",
       "\n",
       "   career_opportunities_stars  comp_benefit_stars  senior_management_stars  \\\n",
       "0                         3.5                 5.0                      2.5   \n",
       "1                         1.0                 2.0                      1.0   \n",
       "\n",
       "  year  \n",
       "0 2012  \n",
       "1 2014  "
      ]
     },
     "execution_count": 13,
     "metadata": {},
     "output_type": "execute_result"
    }
   ],
   "source": [
    "ind_columns = [\"company\", \"dates\", \"overall_ratings\", \"work_balance_stars\", \"career_opportunities_stars\",\n",
    "               \"comp_benefit_stars\", \"senior_management_stars\", \"year\"]\n",
    "#emp_df.set_index([\"company\", \"location\"], inplace=True, drop=False, verify_integrity=False)\n",
    "emp_df = emp_df.reindex(columns = ind_columns)\n",
    "emp_df.head(2)"
   ]
  },
  {
   "cell_type": "markdown",
   "metadata": {},
   "source": [
    "The other ratings columns have less than 10% rows with missing values, which will be filled with either the mean or the median of those columns."
   ]
  },
  {
   "cell_type": "code",
   "execution_count": 14,
   "metadata": {},
   "outputs": [
    {
     "name": "stdout",
     "output_type": "stream",
     "text": [
      "3.373254484917756 3.5\n",
      "3.6340345244203176 4.0\n",
      "3.942502650410814 4.0\n",
      "3.3225223416005623 3.0\n"
     ]
    }
   ],
   "source": [
    "print(emp_df.work_balance_stars.mean(), emp_df.work_balance_stars.median())\n",
    "print(emp_df.career_opportunities_stars.mean(), emp_df.career_opportunities_stars.median())\n",
    "print(emp_df.comp_benefit_stars.mean(), emp_df.comp_benefit_stars.median())\n",
    "print(emp_df.senior_management_stars.mean(), emp_df.senior_management_stars.median())"
   ]
  },
  {
   "cell_type": "markdown",
   "metadata": {},
   "source": [
    "The mean and median for these 4 predictor variables are close so we will fill the missing values with the mean."
   ]
  },
  {
   "cell_type": "code",
   "execution_count": 15,
   "metadata": {},
   "outputs": [],
   "source": [
    "wbs_mean = emp_df['work_balance_stars'].mean()\n",
    "emp_df['work_balance_stars'] = emp_df['work_balance_stars'].fillna(value=wbs_mean)\n",
    "\n",
    "cos_mean = emp_df['career_opportunities_stars'].mean()\n",
    "emp_df['career_opportunities_stars'] = emp_df['career_opportunities_stars'].fillna(value=cos_mean)\n",
    "\n",
    "cbs_mean = emp_df['comp_benefit_stars'].mean()\n",
    "emp_df['comp_benefit_stars'] = emp_df['comp_benefit_stars'].fillna(value=cbs_mean)\n",
    "\n",
    "sms_mean = emp_df['senior_management_stars'].mean()\n",
    "emp_df['senior_management_stars'] = emp_df['senior_management_stars'].fillna(value=sms_mean)"
   ]
  },
  {
   "cell_type": "code",
   "execution_count": 16,
   "metadata": {},
   "outputs": [
    {
     "data": {
      "text/plain": [
       "array([2.5       , 1.        , 4.        , 3.        , 2.        ,\n",
       "       3.32252234, 5.        , 4.5       , 1.5       , 3.5       ])"
      ]
     },
     "execution_count": 16,
     "metadata": {},
     "output_type": "execute_result"
    }
   ],
   "source": [
    "emp_df['senior_management_stars'].unique()"
   ]
  },
  {
   "cell_type": "markdown",
   "metadata": {},
   "source": [
    "The dataset is rich and interesting and can be used to answer a lot of other questions such as:\n",
    "1.\tDo current employees give more reviews than the ex-employees?\n",
    "2.\tIs there a trend between the number of reviews and dates?\n",
    "3.\tWere there a high number of reviews on a particular day?\n",
    "4.\tWhat is the average overall rating? Which companies have consistently continued to stay above this average?\n",
    "5.  Which variables are the biggest predictor for the target variable (overall_ratings)?"
   ]
  },
  {
   "cell_type": "markdown",
   "metadata": {},
   "source": [
    "# What is the main question for this project?"
   ]
  },
  {
   "cell_type": "markdown",
   "metadata": {},
   "source": [
    "What are the various factors that influence the overall_ratings review an employee gives to their ex- or current employer?"
   ]
  },
  {
   "cell_type": "markdown",
   "metadata": {},
   "source": [
    "# Are there variables that are particularly significant in terms of explaining the answer to your project question?"
   ]
  },
  {
   "cell_type": "markdown",
   "metadata": {},
   "source": [
    "In the dataset, we have many variables that could be significant in how an employee rates his employer. Right now, we will just focus on the variables that have a numerical value for the rating. These variables are: work_balance_stars, career_opportunities_stars, comp_benefit_stars and senior_management_stars. All the other features have been removed from the dataframe."
   ]
  },
  {
   "cell_type": "code",
   "execution_count": 17,
   "metadata": {},
   "outputs": [
    {
     "data": {
      "image/png": "[encoded data removed]",
      "text/plain": [
       "<Figure size 1440x1080 with 6 Axes>"
      ]
     },
     "metadata": {
      "needs_background": "light"
     },
     "output_type": "display_data"
    }
   ],
   "source": [
    "# Create histograms for all numerical columns, set number of bins and size\n",
    "emp_df.hist(bins=25, figsize=(20,15))\n",
    "\n",
    "# Show plot\n",
    "plt.show()"
   ]
  },
  {
   "cell_type": "markdown",
   "metadata": {},
   "source": [
    "# Are there strong correlations between pairs of independent variables or between an independent and a dependent variable?"
   ]
  },
  {
   "cell_type": "code",
   "execution_count": 18,
   "metadata": {},
   "outputs": [
    {
     "data": {
      "text/plain": [
       "overall_ratings               1.000000\n",
       "senior_management_stars       0.688452\n",
       "career_opportunities_stars    0.659956\n",
       "work_balance_stars            0.580291\n",
       "comp_benefit_stars            0.512315\n",
       "Name: overall_ratings, dtype: float64"
      ]
     },
     "execution_count": 18,
     "metadata": {},
     "output_type": "execute_result"
    }
   ],
   "source": [
    "corr_matrix = emp_df.corr()\n",
    "corr_matrix['overall_ratings'].sort_values(ascending=False)"
   ]
  },
  {
   "cell_type": "code",
   "execution_count": 19,
   "metadata": {},
   "outputs": [
    {
     "name": "stdout",
     "output_type": "stream",
     "text": [
      "Correlation between work_balance_stars and overall_ratings:  0.5802912944411607\n",
      "Correlation between comp_benefit_stars and overall_ratings:  0.5123151647565627\n",
      "Correlation between career_opportunities_stars and overall_ratings:  0.6599561796214779\n",
      "Correlation between senior_management_stars and overall_ratings:  0.6884520727835641\n"
     ]
    }
   ],
   "source": [
    "print('Correlation between work_balance_stars and overall_ratings: ', emp_df['work_balance_stars'].corr(emp_df['overall_ratings']))\n",
    "print('Correlation between comp_benefit_stars and overall_ratings: ', emp_df['comp_benefit_stars'].corr(emp_df['overall_ratings']))\n",
    "print('Correlation between career_opportunities_stars and overall_ratings: ', emp_df['career_opportunities_stars'].corr(emp_df['overall_ratings']))\n",
    "print('Correlation between senior_management_stars and overall_ratings: ', emp_df['senior_management_stars'].corr(emp_df['overall_ratings']))"
   ]
  },
  {
   "cell_type": "markdown",
   "metadata": {},
   "source": [
    "The variables work_balance_stars and comp_benefit_stars both have a moderate positive relation with overall_ratings. \n",
    "On the other hand, career_opportunities_stars and senior_management_stars both have a strong positive relation with overall_ratings. We can plot a scatter plot to confirm this."
   ]
  },
  {
   "cell_type": "code",
   "execution_count": 22,
   "metadata": {},
   "outputs": [
    {
     "data": {
      "image/png": "[encoded data removed]",
      "text/plain": [
       "<Figure size 360x360 with 1 Axes>"
      ]
     },
     "metadata": {
      "needs_background": "light"
     },
     "output_type": "display_data"
    },
    {
     "data": {
      "image/png": "[encoded data removed]",
      "text/plain": [
       "<Figure size 360x360 with 1 Axes>"
      ]
     },
     "metadata": {
      "needs_background": "light"
     },
     "output_type": "display_data"
    },
    {
     "data": {
      "image/png": "[encoded data removed]",
      "text/plain": [
       "<Figure size 360x360 with 1 Axes>"
      ]
     },
     "metadata": {
      "needs_background": "light"
     },
     "output_type": "display_data"
    },
    {
     "data": {
      "image/png": "[encoded data removed]",
      "text/plain": [
       "<Figure size 360x360 with 1 Axes>"
      ]
     },
     "metadata": {
      "needs_background": "light"
     },
     "output_type": "display_data"
    }
   ],
   "source": [
    "ax = sns.lmplot(x=\"work_balance_stars\", y=\"overall_ratings\", data=emp_df)\n",
    "ax = ax.set_axis_labels(\"Work Balance Ratings\", \"Overall Ratings\")\n",
    "ax = ax.set(title=\"Overall Ratings & Work Balance Ratings\")\n",
    "\n",
    "ax = sns.lmplot(x=\"comp_benefit_stars\", y=\"overall_ratings\", data=emp_df)\n",
    "ax = ax.set_axis_labels(\"Compensation/Benefit Ratings\", \"Overall Ratings\")\n",
    "ax = ax.set(title=\"Overall Ratings & Compensation/Benefit Ratings\")\n",
    "\n",
    "ax = sns.lmplot(x=\"career_opportunities_stars\", y=\"overall_ratings\", data=emp_df)\n",
    "ax = ax.set_axis_labels(\"Career Opportunities Ratings\", \"Overall Ratings\")\n",
    "ax = ax.set(title=\"Overall Ratings & Career Opportunities Ratings\")\n",
    "\n",
    "ax = sns.lmplot(x=\"senior_management_stars\", y=\"overall_ratings\", data=emp_df)\n",
    "ax = ax.set_axis_labels(\"Senior Management Ratings\", \"Overall Ratings\")\n",
    "ax = ax.set(title=\"Overall Ratings & Senior Management Ratings\")\n",
    "plt.show()"
   ]
  },
  {
   "cell_type": "markdown",
   "metadata": {},
   "source": [
    "From the above four charts, we can see that our four predictor variables have a linear and positive relationship with overall_ratings.\n",
    "\n",
    "Typically employees are most happy when they receive good career growth opportunities within their organization. And such opportunities are usually provided by the senior management. So let's check the correlation between career_opportunities_stars and senior_management_stars and see if we can prove our theory."
   ]
  },
  {
   "cell_type": "code",
   "execution_count": 23,
   "metadata": {},
   "outputs": [
    {
     "name": "stdout",
     "output_type": "stream",
     "text": [
      "Correlation between career_opportunities_stars and senior_management_stars:  0.6247170550232829\n",
      "Correlation between work_balance_stars and comp_benefit_stars:  0.41462863313167897\n"
     ]
    }
   ],
   "source": [
    "print('Correlation between career_opportunities_stars and senior_management_stars: ', emp_df['career_opportunities_stars'].corr(emp_df['senior_management_stars']))\n",
    "print('Correlation between work_balance_stars and comp_benefit_stars: ', emp_df['work_balance_stars'].corr(emp_df['comp_benefit_stars']))"
   ]
  },
  {
   "cell_type": "markdown",
   "metadata": {},
   "source": [
    "So we see here that the correlation between career_opportunities_stars and senior_management_stars is strong.\n",
    "The correlation between work_balance_stars and comp_benefit_stars is moderate. "
   ]
  },
  {
   "cell_type": "markdown",
   "metadata": {},
   "source": [
    "# What are the most appropriate tests to use to analyse these relationships?"
   ]
  },
  {
   "cell_type": "markdown",
   "metadata": {},
   "source": [
    "The Pearson correlation test assumes that the variables are normally distributed whereas the Spearman Correlation does not assume that the datasets are normally distributed. Let's run both tests on our variables."
   ]
  },
  {
   "cell_type": "code",
   "execution_count": 24,
   "metadata": {},
   "outputs": [
    {
     "name": "stdout",
     "output_type": "stream",
     "text": [
      "Pearson Correlation:  (0.6247170550232822, 0.0)\n",
      "SpearmanrResult(correlation=0.6005304026661672, pvalue=0.0)\n"
     ]
    }
   ],
   "source": [
    "print('Pearson Correlation: ', stats.pearsonr(emp_df.career_opportunities_stars, emp_df.senior_management_stars))\n",
    "print(stats.spearmanr(emp_df.career_opportunities_stars, emp_df.senior_management_stars))"
   ]
  },
  {
   "cell_type": "code",
   "execution_count": 25,
   "metadata": {},
   "outputs": [
    {
     "name": "stdout",
     "output_type": "stream",
     "text": [
      "Pearson Correlation:  (0.41462863313167836, 0.0)\n",
      "SpearmanrResult(correlation=0.3865441526194612, pvalue=0.0)\n"
     ]
    }
   ],
   "source": [
    "print('Pearson Correlation: ', stats.pearsonr(emp_df.work_balance_stars, emp_df.comp_benefit_stars))\n",
    "print(stats.spearmanr(emp_df.work_balance_stars, emp_df.comp_benefit_stars))"
   ]
  },
  {
   "cell_type": "code",
   "execution_count": 26,
   "metadata": {},
   "outputs": [
    {
     "name": "stdout",
     "output_type": "stream",
     "text": [
      "(0.688452072783564, 0.0)\n",
      "(0.6599561796214771, 0.0)\n",
      "(0.5802912944411611, 0.0)\n",
      "(0.5123151647565624, 0.0)\n"
     ]
    }
   ],
   "source": [
    "# Pick columns to check\n",
    "x = emp_df['overall_ratings']\n",
    "y1 = emp_df['senior_management_stars']\n",
    "y2 = emp_df['career_opportunities_stars']\n",
    "y3 = emp_df['work_balance_stars']\n",
    "y4 = emp_df['comp_benefit_stars']\n",
    "\n",
    "# Scipy's Paerson function returns the correlation and the p-value\n",
    "print(stats.pearsonr(x, y1))\n",
    "print(stats.pearsonr(x, y2))\n",
    "print(stats.pearsonr(x, y3))\n",
    "print(stats.pearsonr(x, y4))"
   ]
  },
  {
   "cell_type": "markdown",
   "metadata": {},
   "source": [
    "Our null hypotheses is the variables are independent and alternative hypotheses is they are not independent but correlated.\n",
    "The Pearson correlation between overall_ratings and the predictor variables reports a p-value of 0.0 which indicates that we can reject the null hypotheses and accept the alternative hypotheses that there is a correlation.\n",
    "\n",
    "Another test that can tried is the chi-square test."
   ]
  },
  {
   "cell_type": "code",
   "execution_count": 27,
   "metadata": {},
   "outputs": [
    {
     "data": {
      "text/html": [
       "<div>\n",
       "<style scoped>\n",
       "    .dataframe tbody tr th:only-of-type {\n",
       "        vertical-align: middle;\n",
       "    }\n",
       "\n",
       "    .dataframe tbody tr th {\n",
       "        vertical-align: top;\n",
       "    }\n",
       "\n",
       "    .dataframe thead th {\n",
       "        text-align: right;\n",
       "    }\n",
       "</style>\n",
       "<table border=\"1\" class=\"dataframe\">\n",
       "  <thead>\n",
       "    <tr style=\"text-align: right;\">\n",
       "      <th>overall_ratings</th>\n",
       "      <th>1.0</th>\n",
       "      <th>2.0</th>\n",
       "      <th>3.0</th>\n",
       "      <th>4.0</th>\n",
       "      <th>5.0</th>\n",
       "    </tr>\n",
       "    <tr>\n",
       "      <th>work_balance_stars</th>\n",
       "      <th></th>\n",
       "      <th></th>\n",
       "      <th></th>\n",
       "      <th></th>\n",
       "      <th></th>\n",
       "    </tr>\n",
       "  </thead>\n",
       "  <tbody>\n",
       "    <tr>\n",
       "      <th>1.0</th>\n",
       "      <td>2431</td>\n",
       "      <td>1800</td>\n",
       "      <td>1779</td>\n",
       "      <td>781</td>\n",
       "      <td>266</td>\n",
       "    </tr>\n",
       "    <tr>\n",
       "      <th>1.5</th>\n",
       "      <td>30</td>\n",
       "      <td>78</td>\n",
       "      <td>47</td>\n",
       "      <td>18</td>\n",
       "      <td>2</td>\n",
       "    </tr>\n",
       "    <tr>\n",
       "      <th>2.0</th>\n",
       "      <td>476</td>\n",
       "      <td>1290</td>\n",
       "      <td>2785</td>\n",
       "      <td>2526</td>\n",
       "      <td>821</td>\n",
       "    </tr>\n",
       "    <tr>\n",
       "      <th>2.5</th>\n",
       "      <td>34</td>\n",
       "      <td>137</td>\n",
       "      <td>176</td>\n",
       "      <td>97</td>\n",
       "      <td>13</td>\n",
       "    </tr>\n",
       "    <tr>\n",
       "      <th>3.0</th>\n",
       "      <td>388</td>\n",
       "      <td>870</td>\n",
       "      <td>3565</td>\n",
       "      <td>5787</td>\n",
       "      <td>3304</td>\n",
       "    </tr>\n",
       "  </tbody>\n",
       "</table>\n",
       "</div>"
      ],
      "text/plain": [
       "overall_ratings      1.0   2.0   3.0   4.0   5.0\n",
       "work_balance_stars                              \n",
       "1.0                 2431  1800  1779   781   266\n",
       "1.5                   30    78    47    18     2\n",
       "2.0                  476  1290  2785  2526   821\n",
       "2.5                   34   137   176    97    13\n",
       "3.0                  388   870  3565  5787  3304"
      ]
     },
     "execution_count": 27,
     "metadata": {},
     "output_type": "execute_result"
    }
   ],
   "source": [
    "# Tabulate work_balance_stars and overall_ratings\n",
    "wbs_overall = pd.crosstab(index=emp_df['work_balance_stars'],columns=emp_df['overall_ratings'])\n",
    "wbs_overall.head()"
   ]
  },
  {
   "cell_type": "code",
   "execution_count": 28,
   "metadata": {},
   "outputs": [
    {
     "data": {
      "text/plain": [
       "(32671.080790591095, 0.0, 36)"
      ]
     },
     "execution_count": 28,
     "metadata": {},
     "output_type": "execute_result"
    }
   ],
   "source": [
    "# Test relationship between work_balance_stars and overall_ratings\n",
    "wbs_overall_chisq = stats.chi2_contingency(wbs_overall)\n",
    "\n",
    "# Output: (chi square test statistic, p, degrees of freedom)\n",
    "wbs_overall_chisq[:3]"
   ]
  },
  {
   "cell_type": "code",
   "execution_count": 29,
   "metadata": {},
   "outputs": [
    {
     "data": {
      "text/plain": [
       "(49902.95075246505, 0.0, 36)"
      ]
     },
     "execution_count": 29,
     "metadata": {},
     "output_type": "execute_result"
    }
   ],
   "source": [
    "# Tabulate senior_management_stars and overall_ratings\n",
    "sms_overall = pd.crosstab(index=emp_df['senior_management_stars'],columns=emp_df['overall_ratings'])\n",
    "\n",
    "# Test relationship between senior_management_stars and overall_ratings\n",
    "sms_overall_chisq = stats.chi2_contingency(sms_overall)\n",
    "\n",
    "# Output: (chi square test statistic, p, degrees of freedom)\n",
    "sms_overall_chisq[:3]"
   ]
  },
  {
   "cell_type": "markdown",
   "metadata": {},
   "source": [
    "This test also gives us a p-value of 0.0 which is less than 0.05. Hence we reject the null hypotheses and deduce that the variables are correlated."
   ]
  },
  {
   "cell_type": "code",
   "execution_count": 30,
   "metadata": {},
   "outputs": [],
   "source": [
    "apple_df = emp_df[emp_df.company == 'apple']\n",
    "amazon_df = emp_df[emp_df.company == 'amazon']\n",
    "facebook_df = emp_df[emp_df.company == 'facebook']\n",
    "google_df = emp_df[emp_df.company == 'google']\n",
    "microsoft_ds = emp_df[emp_df.company == 'microsoft']\n",
    "netflix_df = emp_df[emp_df.company == 'netflix']"
   ]
  },
  {
   "cell_type": "code",
   "execution_count": 31,
   "metadata": {},
   "outputs": [
    {
     "data": {
      "text/html": [
       "<div>\n",
       "<style scoped>\n",
       "    .dataframe tbody tr th:only-of-type {\n",
       "        vertical-align: middle;\n",
       "    }\n",
       "\n",
       "    .dataframe tbody tr th {\n",
       "        vertical-align: top;\n",
       "    }\n",
       "\n",
       "    .dataframe thead th {\n",
       "        text-align: right;\n",
       "    }\n",
       "</style>\n",
       "<table border=\"1\" class=\"dataframe\">\n",
       "  <thead>\n",
       "    <tr style=\"text-align: right;\">\n",
       "      <th></th>\n",
       "      <th>count</th>\n",
       "      <th>mean</th>\n",
       "      <th>std</th>\n",
       "      <th>min</th>\n",
       "      <th>25%</th>\n",
       "      <th>50%</th>\n",
       "      <th>75%</th>\n",
       "      <th>max</th>\n",
       "    </tr>\n",
       "    <tr>\n",
       "      <th>company</th>\n",
       "      <th></th>\n",
       "      <th></th>\n",
       "      <th></th>\n",
       "      <th></th>\n",
       "      <th></th>\n",
       "      <th></th>\n",
       "      <th></th>\n",
       "      <th></th>\n",
       "    </tr>\n",
       "  </thead>\n",
       "  <tbody>\n",
       "    <tr>\n",
       "      <th>amazon</th>\n",
       "      <td>26430.0</td>\n",
       "      <td>3.587363</td>\n",
       "      <td>1.257311</td>\n",
       "      <td>1.0</td>\n",
       "      <td>3.0</td>\n",
       "      <td>4.0</td>\n",
       "      <td>5.0</td>\n",
       "      <td>5.0</td>\n",
       "    </tr>\n",
       "    <tr>\n",
       "      <th>apple</th>\n",
       "      <td>12950.0</td>\n",
       "      <td>3.958224</td>\n",
       "      <td>1.064032</td>\n",
       "      <td>1.0</td>\n",
       "      <td>3.0</td>\n",
       "      <td>4.0</td>\n",
       "      <td>5.0</td>\n",
       "      <td>5.0</td>\n",
       "    </tr>\n",
       "    <tr>\n",
       "      <th>facebook</th>\n",
       "      <td>1590.0</td>\n",
       "      <td>4.511950</td>\n",
       "      <td>0.955680</td>\n",
       "      <td>1.0</td>\n",
       "      <td>4.0</td>\n",
       "      <td>5.0</td>\n",
       "      <td>5.0</td>\n",
       "      <td>5.0</td>\n",
       "    </tr>\n",
       "    <tr>\n",
       "      <th>google</th>\n",
       "      <td>7819.0</td>\n",
       "      <td>4.339430</td>\n",
       "      <td>0.920695</td>\n",
       "      <td>1.0</td>\n",
       "      <td>4.0</td>\n",
       "      <td>5.0</td>\n",
       "      <td>5.0</td>\n",
       "      <td>5.0</td>\n",
       "    </tr>\n",
       "    <tr>\n",
       "      <th>microsoft</th>\n",
       "      <td>17930.0</td>\n",
       "      <td>3.816564</td>\n",
       "      <td>1.036499</td>\n",
       "      <td>1.0</td>\n",
       "      <td>3.0</td>\n",
       "      <td>4.0</td>\n",
       "      <td>5.0</td>\n",
       "      <td>5.0</td>\n",
       "    </tr>\n",
       "    <tr>\n",
       "      <th>netflix</th>\n",
       "      <td>810.0</td>\n",
       "      <td>3.411111</td>\n",
       "      <td>1.415131</td>\n",
       "      <td>1.0</td>\n",
       "      <td>2.0</td>\n",
       "      <td>4.0</td>\n",
       "      <td>5.0</td>\n",
       "      <td>5.0</td>\n",
       "    </tr>\n",
       "  </tbody>\n",
       "</table>\n",
       "</div>"
      ],
      "text/plain": [
       "             count      mean       std  min  25%  50%  75%  max\n",
       "company                                                        \n",
       "amazon     26430.0  3.587363  1.257311  1.0  3.0  4.0  5.0  5.0\n",
       "apple      12950.0  3.958224  1.064032  1.0  3.0  4.0  5.0  5.0\n",
       "facebook    1590.0  4.511950  0.955680  1.0  4.0  5.0  5.0  5.0\n",
       "google      7819.0  4.339430  0.920695  1.0  4.0  5.0  5.0  5.0\n",
       "microsoft  17930.0  3.816564  1.036499  1.0  3.0  4.0  5.0  5.0\n",
       "netflix      810.0  3.411111  1.415131  1.0  2.0  4.0  5.0  5.0"
      ]
     },
     "execution_count": 31,
     "metadata": {},
     "output_type": "execute_result"
    }
   ],
   "source": [
    "emp_df.groupby('company')['overall_ratings'].describe()"
   ]
  },
  {
   "cell_type": "code",
   "execution_count": 32,
   "metadata": {},
   "outputs": [
    {
     "data": {
      "text/html": [
       "<div>\n",
       "<style scoped>\n",
       "    .dataframe tbody tr th:only-of-type {\n",
       "        vertical-align: middle;\n",
       "    }\n",
       "\n",
       "    .dataframe tbody tr th {\n",
       "        vertical-align: top;\n",
       "    }\n",
       "\n",
       "    .dataframe thead th {\n",
       "        text-align: right;\n",
       "    }\n",
       "</style>\n",
       "<table border=\"1\" class=\"dataframe\">\n",
       "  <thead>\n",
       "    <tr style=\"text-align: right;\">\n",
       "      <th></th>\n",
       "      <th>count</th>\n",
       "      <th>unique</th>\n",
       "      <th>top</th>\n",
       "      <th>freq</th>\n",
       "    </tr>\n",
       "    <tr>\n",
       "      <th>company</th>\n",
       "      <th></th>\n",
       "      <th></th>\n",
       "      <th></th>\n",
       "      <th></th>\n",
       "    </tr>\n",
       "  </thead>\n",
       "  <tbody>\n",
       "    <tr>\n",
       "      <th>amazon</th>\n",
       "      <td>26428</td>\n",
       "      <td>11</td>\n",
       "      <td>2018</td>\n",
       "      <td>8054</td>\n",
       "    </tr>\n",
       "    <tr>\n",
       "      <th>apple</th>\n",
       "      <td>12949</td>\n",
       "      <td>11</td>\n",
       "      <td>2016</td>\n",
       "      <td>2562</td>\n",
       "    </tr>\n",
       "    <tr>\n",
       "      <th>facebook</th>\n",
       "      <td>1590</td>\n",
       "      <td>11</td>\n",
       "      <td>2017</td>\n",
       "      <td>324</td>\n",
       "    </tr>\n",
       "    <tr>\n",
       "      <th>google</th>\n",
       "      <td>7819</td>\n",
       "      <td>11</td>\n",
       "      <td>2017</td>\n",
       "      <td>1490</td>\n",
       "    </tr>\n",
       "    <tr>\n",
       "      <th>microsoft</th>\n",
       "      <td>17930</td>\n",
       "      <td>11</td>\n",
       "      <td>2015</td>\n",
       "      <td>3011</td>\n",
       "    </tr>\n",
       "    <tr>\n",
       "      <th>netflix</th>\n",
       "      <td>809</td>\n",
       "      <td>11</td>\n",
       "      <td>2015</td>\n",
       "      <td>104</td>\n",
       "    </tr>\n",
       "  </tbody>\n",
       "</table>\n",
       "</div>"
      ],
      "text/plain": [
       "           count unique  top  freq\n",
       "company                           \n",
       "amazon     26428     11 2018  8054\n",
       "apple      12949     11 2016  2562\n",
       "facebook    1590     11 2017   324\n",
       "google      7819     11 2017  1490\n",
       "microsoft  17930     11 2015  3011\n",
       "netflix      809     11 2015   104"
      ]
     },
     "execution_count": 32,
     "metadata": {},
     "output_type": "execute_result"
    }
   ],
   "source": [
    "emp_df.groupby('company')['year'].describe()"
   ]
  },
  {
   "cell_type": "code",
   "execution_count": 34,
   "metadata": {},
   "outputs": [],
   "source": [
    "#emp_df.groupby(['company','year'])['overall_ratings'].describe()"
   ]
  },
  {
   "cell_type": "code",
   "execution_count": 35,
   "metadata": {},
   "outputs": [],
   "source": [
    "# function to get the Margin of Error of the mean\n",
    "def get_mem(sample, alpha=0.95, dof=1):\n",
    "    \"\"\" This function takes a series as input.\n",
    "    It also optionally takes a significance level\n",
    "    and degrees of freedom as input.\n",
    "    This function returns the margin of error\n",
    "    for the mean of the input series.\"\"\"\n",
    "    \n",
    "    # find the number of non-null values\n",
    "    sample_count = np.count_nonzero(~np.isnan(sample))\n",
    "    \n",
    "    # find the mean and standard error of the mean\n",
    "    mean = np.nanmean(sample)\n",
    "    sem = np.nanstd(sample, ddof=dof) / np.sqrt(sample_count)\n",
    "    \n",
    "    # get the confidence interval\n",
    "    cim = stats.norm.interval(alpha, loc=mean, scale=sem)\n",
    "    \n",
    "    # calculate and return the margin of error\n",
    "    mem = (cim[1] - cim[0]) / 2\n",
    "    return mem"
   ]
  },
  {
   "cell_type": "code",
   "execution_count": 36,
   "metadata": {},
   "outputs": [],
   "source": [
    "# get mean and SE of the mean for each station\n",
    "df_mem = emp_df[['career_opportunities_stars', 'senior_management_stars', 'work_balance_stars', 'comp_benefit_stars']].groupby(emp_df.company).agg([np.nanmean, get_mem])"
   ]
  },
  {
   "cell_type": "code",
   "execution_count": 37,
   "metadata": {},
   "outputs": [
    {
     "data": {
      "text/html": [
       "<div>\n",
       "<style scoped>\n",
       "    .dataframe tbody tr th:only-of-type {\n",
       "        vertical-align: middle;\n",
       "    }\n",
       "\n",
       "    .dataframe tbody tr th {\n",
       "        vertical-align: top;\n",
       "    }\n",
       "\n",
       "    .dataframe thead tr th {\n",
       "        text-align: left;\n",
       "    }\n",
       "\n",
       "    .dataframe thead tr:last-of-type th {\n",
       "        text-align: right;\n",
       "    }\n",
       "</style>\n",
       "<table border=\"1\" class=\"dataframe\">\n",
       "  <thead>\n",
       "    <tr>\n",
       "      <th></th>\n",
       "      <th colspan=\"2\" halign=\"left\">career_opportunities_stars</th>\n",
       "      <th colspan=\"2\" halign=\"left\">senior_management_stars</th>\n",
       "      <th colspan=\"2\" halign=\"left\">work_balance_stars</th>\n",
       "      <th colspan=\"2\" halign=\"left\">comp_benefit_stars</th>\n",
       "    </tr>\n",
       "    <tr>\n",
       "      <th></th>\n",
       "      <th>nanmean</th>\n",
       "      <th>get_mem</th>\n",
       "      <th>nanmean</th>\n",
       "      <th>get_mem</th>\n",
       "      <th>nanmean</th>\n",
       "      <th>get_mem</th>\n",
       "      <th>nanmean</th>\n",
       "      <th>get_mem</th>\n",
       "    </tr>\n",
       "    <tr>\n",
       "      <th>company</th>\n",
       "      <th></th>\n",
       "      <th></th>\n",
       "      <th></th>\n",
       "      <th></th>\n",
       "      <th></th>\n",
       "      <th></th>\n",
       "      <th></th>\n",
       "      <th></th>\n",
       "    </tr>\n",
       "  </thead>\n",
       "  <tbody>\n",
       "    <tr>\n",
       "      <th>amazon</th>\n",
       "      <td>3.607071</td>\n",
       "      <td>0.014944</td>\n",
       "      <td>3.191030</td>\n",
       "      <td>0.015420</td>\n",
       "      <td>3.052557</td>\n",
       "      <td>0.015336</td>\n",
       "      <td>3.721170</td>\n",
       "      <td>0.012985</td>\n",
       "    </tr>\n",
       "    <tr>\n",
       "      <th>apple</th>\n",
       "      <td>3.438122</td>\n",
       "      <td>0.020292</td>\n",
       "      <td>3.448864</td>\n",
       "      <td>0.021292</td>\n",
       "      <td>3.367992</td>\n",
       "      <td>0.021082</td>\n",
       "      <td>4.014815</td>\n",
       "      <td>0.016489</td>\n",
       "    </tr>\n",
       "    <tr>\n",
       "      <th>facebook</th>\n",
       "      <td>4.338216</td>\n",
       "      <td>0.048876</td>\n",
       "      <td>4.239023</td>\n",
       "      <td>0.053474</td>\n",
       "      <td>3.914501</td>\n",
       "      <td>0.056195</td>\n",
       "      <td>4.544816</td>\n",
       "      <td>0.036556</td>\n",
       "    </tr>\n",
       "    <tr>\n",
       "      <th>google</th>\n",
       "      <td>3.907707</td>\n",
       "      <td>0.022553</td>\n",
       "      <td>3.755193</td>\n",
       "      <td>0.023120</td>\n",
       "      <td>3.893909</td>\n",
       "      <td>0.022847</td>\n",
       "      <td>4.305022</td>\n",
       "      <td>0.017918</td>\n",
       "    </tr>\n",
       "    <tr>\n",
       "      <th>microsoft</th>\n",
       "      <td>3.657593</td>\n",
       "      <td>0.015026</td>\n",
       "      <td>3.160415</td>\n",
       "      <td>0.016896</td>\n",
       "      <td>3.579517</td>\n",
       "      <td>0.016197</td>\n",
       "      <td>3.997241</td>\n",
       "      <td>0.012359</td>\n",
       "    </tr>\n",
       "    <tr>\n",
       "      <th>netflix</th>\n",
       "      <td>3.100459</td>\n",
       "      <td>0.094168</td>\n",
       "      <td>3.205850</td>\n",
       "      <td>0.099237</td>\n",
       "      <td>3.267485</td>\n",
       "      <td>0.091479</td>\n",
       "      <td>4.114969</td>\n",
       "      <td>0.067402</td>\n",
       "    </tr>\n",
       "  </tbody>\n",
       "</table>\n",
       "</div>"
      ],
      "text/plain": [
       "          career_opportunities_stars           senior_management_stars  \\\n",
       "                             nanmean   get_mem                 nanmean   \n",
       "company                                                                  \n",
       "amazon                      3.607071  0.014944                3.191030   \n",
       "apple                       3.438122  0.020292                3.448864   \n",
       "facebook                    4.338216  0.048876                4.239023   \n",
       "google                      3.907707  0.022553                3.755193   \n",
       "microsoft                   3.657593  0.015026                3.160415   \n",
       "netflix                     3.100459  0.094168                3.205850   \n",
       "\n",
       "                    work_balance_stars           comp_benefit_stars            \n",
       "            get_mem            nanmean   get_mem            nanmean   get_mem  \n",
       "company                                                                        \n",
       "amazon     0.015420           3.052557  0.015336           3.721170  0.012985  \n",
       "apple      0.021292           3.367992  0.021082           4.014815  0.016489  \n",
       "facebook   0.053474           3.914501  0.056195           4.544816  0.036556  \n",
       "google     0.023120           3.893909  0.022847           4.305022  0.017918  \n",
       "microsoft  0.016896           3.579517  0.016197           3.997241  0.012359  \n",
       "netflix    0.099237           3.267485  0.091479           4.114969  0.067402  "
      ]
     },
     "execution_count": 37,
     "metadata": {},
     "output_type": "execute_result"
    }
   ],
   "source": [
    "df_mem"
   ]
  },
  {
   "cell_type": "code",
   "execution_count": 38,
   "metadata": {},
   "outputs": [],
   "source": [
    "df_cos = df_mem['career_opportunities_stars']\n",
    "df_cos.columns = ['sample_mean','mem']\n",
    "df_cos = df_cos.sort_values('sample_mean').reset_index()"
   ]
  },
  {
   "cell_type": "code",
   "execution_count": 39,
   "metadata": {},
   "outputs": [
    {
     "data": {
      "image/png": "[encoded data removed]",
      "text/plain": [
       "<Figure size 432x288 with 1 Axes>"
      ]
     },
     "metadata": {
      "needs_background": "light"
     },
     "output_type": "display_data"
    }
   ],
   "source": [
    "# plot the CI for career opportunities stars\n",
    "plt.errorbar(x=df_cos.sample_mean, y=df_cos.index, xerr=df_cos.mem, marker='.', linestyle='none')\n",
    "plt.yticks(df_cos.index, df_cos.company)\n",
    "plt.xlabel('Career Opportunities Ratings')\n",
    "plt.ylabel('Company')\n",
    "plt.title('95 % Confidence Intervals for Career Opportunities Ratings \\n by Company')\n",
    "plt.show()"
   ]
  },
  {
   "cell_type": "code",
   "execution_count": 40,
   "metadata": {},
   "outputs": [],
   "source": [
    "apple_by_year = apple_df.groupby(['year']).mean()\n",
    "apple_df_min = apple_by_year['overall_ratings'].min()\n",
    "apple_df_max = apple_by_year['overall_ratings'].max()"
   ]
  },
  {
   "cell_type": "code",
   "execution_count": 41,
   "metadata": {},
   "outputs": [],
   "source": [
    "amazon_by_year = amazon_df.groupby(['year']).mean()\n",
    "amazon_df_min = amazon_by_year['overall_ratings'].min()\n",
    "amazon_df_max = amazon_by_year['overall_ratings'].max()"
   ]
  },
  {
   "cell_type": "markdown",
   "metadata": {},
   "source": [
    "<< PENDING >>\n",
    "Something I am still working on ... Find the min and max means grouped by company and year of review and plot on a bar graph."
   ]
  },
  {
   "cell_type": "markdown",
   "metadata": {},
   "source": [
    "Conclusion:\n",
    "All the ratings variables are correlated and show as pattern. Further analysis should be done using regression models and F-tests. I think it will be interesting to also analyze the summary, pros, cons and advice_to_mgmt columns. They contain textual data and I would like to use NLP techniques to conduct text processing and sentiment analysis on them."
   ]
  },
  {
   "cell_type": "code",
   "execution_count": null,
   "metadata": {},
   "outputs": [],
   "source": []
  }
 ],
 "metadata": {
  "kernelspec": {
   "display_name": "Python 3",
   "language": "python",
   "name": "python3"
  },
  "language_info": {
   "codemirror_mode": {
    "name": "ipython",
    "version": 3
   },
   "file_extension": ".py",
   "mimetype": "text/x-python",
   "name": "python",
   "nbconvert_exporter": "python",
   "pygments_lexer": "ipython3",
   "version": "3.7.1"
  }
 },
 "nbformat": 4,
 "nbformat_minor": 2
}
